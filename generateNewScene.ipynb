{
 "cells": [
  {
   "attachments": {},
   "cell_type": "markdown",
   "metadata": {},
   "source": [
    "# Input names"
   ]
  },
  {
   "cell_type": "code",
   "execution_count": 10,
   "metadata": {},
   "outputs": [],
   "source": [
    "newSceneName = \"KekWait\"\n",
    "userHistoryEventSceneStart = f\"Перешел к сцене {newSceneName}\""
   ]
  },
  {
   "attachments": {},
   "cell_type": "markdown",
   "metadata": {},
   "source": [
    "# Generation"
   ]
  },
  {
   "cell_type": "code",
   "execution_count": 11,
   "metadata": {},
   "outputs": [],
   "source": [
    "import re\n",
    "\n",
    "def toCamelCaseFromSnake(snake_str):\n",
    "    return \"\".join(x.capitalize() for x in snake_str.lower().split(\"_\"))\n",
    "\n",
    "def toSnakeCaseFromCamel(name):\n",
    "    name = re.sub('(.)([A-Z][a-z]+)', r'\\1_\\2', name)\n",
    "    return re.sub('([a-z0-9])([A-Z])', r'\\1_\\2', name).lower()\n",
    "\n",
    "def toKebabCaseFromCamel(name):\n",
    "    name = re.sub('(.)([A-Z][a-z]+)', r'\\1-\\2', name)\n",
    "    return re.sub('([a-z0-9])([A-Z])', r'\\1-\\2', name).lower()\n"
   ]
  },
  {
   "cell_type": "code",
   "execution_count": 12,
   "metadata": {},
   "outputs": [],
   "source": [
    "from pathlib import Path\n",
    "import platform\n",
    "\n",
    "isWindows = platform.system() == 'Windows'\n",
    "\n",
    "def writeFileData(filePath: Path, content):\n",
    "    if isWindows:\n",
    "        data = content\n",
    "        with filePath.open('w', encoding= 'utf-8') as file:\n",
    "            file.write(data)\n",
    "    else:\n",
    "        data = content\n",
    "        with filePath.open('w') as file:\n",
    "            file.write(data)\n",
    "\n",
    "def addLinesToFileData(filePath: Path, content):\n",
    "    if isWindows:\n",
    "        data = content\n",
    "        with filePath.open('a', encoding= 'utf-8') as file:\n",
    "            file.write(data)\n",
    "    else:\n",
    "        data = content\n",
    "        with filePath.open('a') as file:\n",
    "            file.write(data)\n",
    "\n",
    "def getFileData(filePath: Path):\n",
    "    with filePath.open() as file:\n",
    "        content = file.read()\n",
    "    return content\n",
    "\n",
    "def replaceInFileData(filePath: Path, placeholder: str, newContent: str):\n",
    "    fileContent = getFileData(filePath)\n",
    "    fileContent = fileContent.replace(\n",
    "        placeholder,\n",
    "        newContent\n",
    "    )\n",
    "    writeFileData(filePath, fileContent)"
   ]
  },
  {
   "cell_type": "code",
   "execution_count": 13,
   "metadata": {},
   "outputs": [],
   "source": [
    "sceneNameCapitaliseMask = \"<#SceneNameCapitalise#>\"\n",
    "sceneNameCamelCaseMask = \"<#SceneNameCamelCase#>\"\n",
    "fileContentTemplate = \"\"\"import { Context } from 'telegraf'\n",
    "import { Message, Update } from 'telegraf/typings/core/types/typegram'\n",
    "import { SceneName } from '../enums/scene-name.enum'\n",
    "import { SceneHandlerCompletion, Scene } from '../scene.interface'\n",
    "import { Markup } from 'telegraf'\n",
    "import { logger } from 'src/app.logger'\n",
    "\n",
    "// =====================\n",
    "// Scene data class\n",
    "// =====================\n",
    "interface ISceneData {\n",
    "    \n",
    "}\n",
    "\n",
    "export class <#SceneNameCapitalise#> extends Scene {\n",
    "    // =====================\n",
    "    // Properties\n",
    "    // =====================\n",
    "\n",
    "    readonly name: SceneName = SceneName.<#SceneNameCamelCase#>\n",
    "\n",
    "    // =====================\n",
    "    // Public methods\n",
    "    // =====================\n",
    "\n",
    "    async handleEnterScene(ctx: Context<Update>): Promise<SceneHandlerCompletion> {\n",
    "        logger.log(`${this.name} scene handleEnterScene. User: ${ctx.from.id} ${ctx.from.username}`)\n",
    "        await this.logToUserHistory(this.historyEvent.startSceneOnboarding)\n",
    "        \n",
    "        await ctx.replyWithMarkdownV2(\n",
    "            `Hello from *<#SceneNameCapitalise#>*`,\n",
    "            super.keyboardMarkupWithAutoLayoutFor(['Hello!'])\n",
    "        )\n",
    "\n",
    "        return this.completion.inProgress(\n",
    "            this.generateData({})\n",
    "        )\n",
    "    }\n",
    "\n",
    "    async handleMessage(ctx: Context<Update>, dataRaw: Object): Promise<SceneHandlerCompletion> {\n",
    "        logger.log(`${this.name} scene handleMessage. User: ${ctx.from.id} ${ctx.from.username}`)\n",
    "\n",
    "        let data: ISceneData = this.restoreData(dataRaw)\n",
    "        const message = ctx.message as Message.TextMessage\n",
    "\n",
    "        await ctx.replyWithMarkdownV2(`Goodbye`, Markup.removeKeyboard())\n",
    "\n",
    "        return this.completion.complete(SceneName.mainMenu)\n",
    "    }\n",
    "\n",
    "    async handleCallback(ctx: Context<Update>, dataRaw: Object): Promise<SceneHandlerCompletion> {\n",
    "        throw new Error('Method not implemented.')\n",
    "    }\n",
    "\n",
    "    // =====================\n",
    "    // Private methods\n",
    "    // =====================\n",
    "\n",
    "    private generateData(data: ISceneData): ISceneData {\n",
    "        return data\n",
    "    }\n",
    "\n",
    "    private restoreData(dataRaw: object): ISceneData {\n",
    "        const data: ISceneData = dataRaw as ISceneData\n",
    "        return (\n",
    "            data ?? this.generateData({})\n",
    "        )\n",
    "    }\n",
    "}\n",
    "\"\"\""
   ]
  },
  {
   "attachments": {},
   "cell_type": "markdown",
   "metadata": {},
   "source": [
    "## Configuration"
   ]
  },
  {
   "cell_type": "code",
   "execution_count": 14,
   "metadata": {},
   "outputs": [],
   "source": [
    "sceneNameCapitalise = newSceneName[0].upper() + newSceneName[1:]\n",
    "sceneNameCamelCase = newSceneName[0].lower() + newSceneName[1:]\n",
    "sceneNameKebabCase = toKebabCaseFromCamel(sceneNameCapitalise)"
   ]
  },
  {
   "cell_type": "code",
   "execution_count": 15,
   "metadata": {},
   "outputs": [],
   "source": [
    "# Check folder path\n",
    "\n",
    "scenesPath = Path(\"./src/presentation/scenes/implementations/\")\n",
    "creatingSceneFolder = scenesPath\n",
    "creatingSceneSourceFile = creatingSceneFolder / f\"{sceneNameKebabCase}.scene.ts\"\n",
    "\n",
    "userHistoryEventFilePath = Path(\"./src/core/user/enums/user-history-event.enum.ts\")\n",
    "sceneNameFilePath = Path(\"./src/presentation/scenes/enums/scene-name.enum.ts\")\n",
    "sceneFactoryFilePath = Path(\"./src/presentation/scenes/scene-factory.ts\")\n"
   ]
  },
  {
   "cell_type": "code",
   "execution_count": 16,
   "metadata": {},
   "outputs": [],
   "source": [
    "# Source code names update\n",
    "\n",
    "fileContent = fileContentTemplate.replace(sceneNameCapitaliseMask, sceneNameCapitalise)\n",
    "fileContent = fileContent.replace(sceneNameCamelCaseMask, sceneNameCamelCase)"
   ]
  },
  {
   "attachments": {},
   "cell_type": "markdown",
   "metadata": {},
   "source": [
    "## Source code generation"
   ]
  },
  {
   "cell_type": "code",
   "execution_count": 17,
   "metadata": {},
   "outputs": [],
   "source": [
    "# creatingSceneFolder.mkdir(parents=True, exist_ok=True)\n",
    "writeFileData(creatingSceneSourceFile, fileContent)"
   ]
  },
  {
   "cell_type": "code",
   "execution_count": 18,
   "metadata": {},
   "outputs": [],
   "source": [
    "# UserHistoryEvent\n",
    "placeholder = '/** New scene event placeholder */'\n",
    "replaceInFileData(\n",
    "    filePath=userHistoryEventFilePath,\n",
    "    placeholder=placeholder,\n",
    "    newContent=f\"{sceneNameCamelCase} = '{userHistoryEventSceneStart}'\\n\\t{placeholder}\"\n",
    ")\n",
    "\n",
    "# SceneName\n",
    "placeholder = '/** New scene name placeholder */'\n",
    "replaceInFileData(\n",
    "    filePath=sceneNameFilePath,\n",
    "    placeholder=placeholder,\n",
    "    newContent=f\"{sceneNameCamelCase} = '{sceneNameCamelCase}'\\n\\t{placeholder}\"\n",
    ")\n",
    "\n",
    "# SceneFactory\n",
    "placeholder = '/** New scene import placeholder */'\n",
    "replaceInFileData(\n",
    "    filePath=sceneFactoryFilePath,\n",
    "    placeholder=placeholder,\n",
    "    newContent=\"import { \" + sceneNameCapitalise + \" } from './implementations/\" + sceneNameKebabCase + \".scene'\\n\" + placeholder\n",
    ")\n",
    "\n",
    "placeholder = '/** New scene generation placeholder */'\n",
    "replaceInFileData(\n",
    "    filePath=sceneFactoryFilePath,\n",
    "    placeholder=placeholder,\n",
    "    newContent=f\"case SceneName.{sceneNameCamelCase}:\\n\\t\\t\\t\\treturn new {sceneNameCapitalise}(configuration)\\n\\t\\t\\t{placeholder}\"\n",
    ")"
   ]
  }
 ],
 "metadata": {
  "kernelspec": {
   "display_name": "base",
   "language": "python",
   "name": "python3"
  },
  "language_info": {
   "codemirror_mode": {
    "name": "ipython",
    "version": 3
   },
   "file_extension": ".py",
   "mimetype": "text/x-python",
   "name": "python",
   "nbconvert_exporter": "python",
   "pygments_lexer": "ipython3",
   "version": "3.8.3"
  },
  "orig_nbformat": 4,
  "vscode": {
   "interpreter": {
    "hash": "7b7c7b2245f84aa233e35c86f483dabad4d751346c1b04aaf192d0cd0bfc0ef9"
   }
  }
 },
 "nbformat": 4,
 "nbformat_minor": 2
}
