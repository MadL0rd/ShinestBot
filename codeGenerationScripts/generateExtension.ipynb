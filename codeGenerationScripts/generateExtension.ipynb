{
 "cells": [
  {
   "cell_type": "code",
   "execution_count": 18,
   "metadata": {},
   "outputs": [],
   "source": [
    "import os\n",
    "from pathlib import Path"
   ]
  },
  {
   "attachments": {},
   "cell_type": "markdown",
   "metadata": {},
   "source": [
    "# Input names"
   ]
  },
  {
   "cell_type": "code",
   "execution_count": 19,
   "metadata": {},
   "outputs": [],
   "source": [
    "typeName = 'Enum'\n",
    "extensionName = f'{typeName}Extension'\n",
    "extensionServiceName = f'{extensionName}Service'"
   ]
  },
  {
   "attachments": {},
   "cell_type": "markdown",
   "metadata": {},
   "source": [
    "# Generation"
   ]
  },
  {
   "cell_type": "code",
   "execution_count": 20,
   "metadata": {},
   "outputs": [],
   "source": [
    "command = f'''\n",
    "cd ../\n",
    "nest generate service extensions/{extensionName} --no-spec\n",
    "'''\n",
    "process = os.system(command)"
   ]
  },
  {
   "cell_type": "code",
   "execution_count": 21,
   "metadata": {},
   "outputs": [],
   "source": [
    "from pathlib import Path\n",
    "import platform\n",
    "\n",
    "isWindows = platform.system() == 'Windows'\n",
    "\n",
    "def writeFileData(filePath: Path, content):\n",
    "    if isWindows:\n",
    "        data = content\n",
    "        with filePath.open('w', encoding= 'utf-8') as file:\n",
    "            file.write(data)\n",
    "    else:\n",
    "        data = content\n",
    "        with filePath.open('w') as file:\n",
    "            file.write(data)\n",
    "\n",
    "def addLinesToFileData(filePath: Path, content):\n",
    "    if isWindows:\n",
    "        data = content\n",
    "        with filePath.open('a', encoding= 'utf-8') as file:\n",
    "            file.write(data)\n",
    "    else:\n",
    "        data = content\n",
    "        with filePath.open('a') as file:\n",
    "            file.write(data)\n",
    "\n",
    "def getFileData(filePath: Path):\n",
    "    with filePath.open() as file:\n",
    "        content = file.read()\n",
    "    return content\n",
    "\n",
    "def replaceInFileData(filePath: Path, placeholder: str, newContent: str):\n",
    "    fileContent = getFileData(filePath)\n",
    "    fileContent = fileContent.replace(\n",
    "        placeholder,\n",
    "        newContent\n",
    "    )\n",
    "    writeFileData(filePath, fileContent)"
   ]
  },
  {
   "cell_type": "code",
   "execution_count": 22,
   "metadata": {},
   "outputs": [],
   "source": [
    "import re\n",
    "\n",
    "def toCamelCaseFromSnake(snake_str):\n",
    "    return \"\".join(x.capitalize() for x in snake_str.lower().split(\"_\"))\n",
    "\n",
    "def toSnakeCaseFromCamel(name):\n",
    "    name = re.sub('(.)([A-Z][a-z]+)', r'\\1_\\2', name)\n",
    "    return re.sub('([a-z0-9])([A-Z])', r'\\1_\\2', name).lower()\n",
    "\n",
    "def toKebabCaseFromCamel(name):\n",
    "    name = re.sub('(.)([A-Z][a-z]+)', r'\\1-\\2', name)\n",
    "    return re.sub('([a-z0-9])([A-Z])', r'\\1-\\2', name).lower()"
   ]
  },
  {
   "cell_type": "code",
   "execution_count": 23,
   "metadata": {},
   "outputs": [
    {
     "name": "stdout",
     "output_type": "stream",
     "text": [
      "../src/extensions/enum-extension/enum-extension.service.ts\n"
     ]
    }
   ],
   "source": [
    "extensionKebabCaseName = toKebabCaseFromCamel(extensionName)\n",
    "serviceFilePath = Path(f'../src/extensions/{extensionKebabCaseName}/{extensionKebabCaseName}.service.ts')\n",
    "print(serviceFilePath)"
   ]
  },
  {
   "cell_type": "code",
   "execution_count": 24,
   "metadata": {},
   "outputs": [],
   "source": [
    "maskExtensionServiceName = '<#ExtensionServiceName#>'\n",
    "serviceFileContent = '''\n",
    "import { Injectable } from '@nestjs/common'\n",
    "\n",
    "declare global {\n",
    "    interface SomeType {\n",
    "       \n",
    "    }\n",
    "}\n",
    "\n",
    "@Injectable()\n",
    "export class <#ExtensionServiceName#> {\n",
    "    initExtensions() {\n",
    "        \n",
    "    }\n",
    "}\n",
    "'''\n",
    "serviceFileContent = serviceFileContent.strip()\n",
    "serviceFileContent = serviceFileContent.replace(maskExtensionServiceName, extensionServiceName)\n",
    "writeFileData(serviceFilePath, serviceFileContent)"
   ]
  },
  {
   "cell_type": "code",
   "execution_count": null,
   "metadata": {},
   "outputs": [],
   "source": []
  }
 ],
 "metadata": {
  "kernelspec": {
   "display_name": "base",
   "language": "python",
   "name": "python3"
  },
  "language_info": {
   "codemirror_mode": {
    "name": "ipython",
    "version": 3
   },
   "file_extension": ".py",
   "mimetype": "text/x-python",
   "name": "python",
   "nbconvert_exporter": "python",
   "pygments_lexer": "ipython3",
   "version": "3.8.3"
  },
  "orig_nbformat": 4,
  "vscode": {
   "interpreter": {
    "hash": "7b7c7b2245f84aa233e35c86f483dabad4d751346c1b04aaf192d0cd0bfc0ef9"
   }
  }
 },
 "nbformat": 4,
 "nbformat_minor": 2
}
