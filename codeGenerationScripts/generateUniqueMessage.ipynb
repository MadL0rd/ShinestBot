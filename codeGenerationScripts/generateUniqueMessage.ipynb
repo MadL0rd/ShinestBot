{
 "cells": [
  {
   "cell_type": "code",
   "execution_count": null,
   "metadata": {},
   "outputs": [],
   "source": [
    "from pathlib import Path\n",
    "from typing import List, Dict\n",
    "\n",
    "from Models.LocalizedString import LocalizedString, ParamTypes, LocalizedStringParam\n",
    "import Services.GoogleSheetsService as sheetService\n",
    "from Services.LocalFilesService import LocalFilesService, isWindows"
   ]
  },
  {
   "cell_type": "markdown",
   "metadata": {},
   "source": [
    "## Constants and configurations"
   ]
  },
  {
   "cell_type": "code",
   "execution_count": null,
   "metadata": {},
   "outputs": [],
   "source": [
    "filesBaseDir = Path(\"./CachedFiles\")\n",
    "filePathLocalizedStringRaw = filesBaseDir / \"LocalizedStringRaw.json\"\n",
    "filePathLocalizedStringGroups = filesBaseDir / \"LocalizedStringGroups.json\"\n",
    "\n",
    "fileService = LocalFilesService(baseFolder=filesBaseDir)"
   ]
  },
  {
   "cell_type": "code",
   "execution_count": null,
   "metadata": {},
   "outputs": [],
   "source": [
    "defaultLanguage = 'RU'\n",
    "codeFileTab = '    '\n",
    "\n",
    "filePathUniqueMessage = Path('../src/entities/bot-content/nested/unique-message.entity.ts')"
   ]
  },
  {
   "cell_type": "code",
   "execution_count": null,
   "metadata": {},
   "outputs": [],
   "source": [
    "cachedTrueValue = 'TRUE'\n",
    "\n",
    "languagesStartSheetLetter = 'H'\n",
    "languagesStartSheetLetterIndex = ord(languagesStartSheetLetter)\n",
    "\n",
    "firstLetter = 'A'\n",
    "firstLetterIndex = ord(firstLetter)\n",
    "\n",
    "lastLetter = 'Z'\n",
    "lastLetterIndex = ord(lastLetter)\n",
    "\n",
    "# Starts from 1\n",
    "configurationRowIndex = 1\n",
    "startSheetLocalizationRowsIndex = 3\n",
    "endSheetLocalizationRowsIndex = 1000"
   ]
  },
  {
   "cell_type": "markdown",
   "metadata": {},
   "source": [
    "## Cache languages configuration"
   ]
  },
  {
   "cell_type": "code",
   "execution_count": null,
   "metadata": {},
   "outputs": [],
   "source": [
    "languages = sheetService.getContent(\n",
    "    page=sheetService.pages.uniqueMessage,\n",
    "    range=f'{languagesStartSheetLetter}{configurationRowIndex}:{lastLetter}{configurationRowIndex}'\n",
    ")[0]\n",
    "\n",
    "languagesCount = len(languages)\n",
    "rowEstimatedLength = languagesStartSheetLetterIndex - firstLetterIndex + languagesCount\n",
    "print(languages)\n",
    "print(f'Languages count: {languagesCount}')\n",
    "print(f'Estimated row length: {rowEstimatedLength}')"
   ]
  },
  {
   "cell_type": "code",
   "execution_count": null,
   "metadata": {},
   "outputs": [],
   "source": [
    "def makeSpreadSheetPlaceholderWithIndex(index: int) -> str:\n",
    "    return f'<#{index}>'\n",
    "\n",
    "def makeIosPlaceholderWithIndex(index: int) -> str:\n",
    "    return f'%{index}$@'"
   ]
  },
  {
   "cell_type": "markdown",
   "metadata": {},
   "source": [
    "## Cache spreadsheet localization content"
   ]
  },
  {
   "cell_type": "code",
   "execution_count": null,
   "metadata": {},
   "outputs": [],
   "source": [
    "sheetStringsContent = sheetService.getContent(\n",
    "    page=sheetService.pages.uniqueMessage, \n",
    "    range=f'{firstLetter}{startSheetLocalizationRowsIndex}:{chr(languagesStartSheetLetterIndex + languagesCount)}{endSheetLocalizationRowsIndex}'\n",
    ")\n",
    "sheetStringsContent = [row for row in sheetStringsContent if len(row) >= rowEstimatedLength]\n",
    "len(sheetStringsContent)"
   ]
  },
  {
   "cell_type": "code",
   "execution_count": null,
   "metadata": {},
   "outputs": [],
   "source": [
    "def parseParams(rawParamsString: str) -> List[LocalizedStringParam]:\n",
    "    result: List[LocalizedStringParam] = []\n",
    "    for row in rawParamsString.split('\\n'):\n",
    "        rowComponents = [ component.strip() for component in row.split('/') ]\n",
    "        if len(rowComponents) == 3 and rowComponents[2] in ParamTypes._member_names_:\n",
    "            result.append(LocalizedStringParam(\n",
    "                paramKey=rowComponents[0],\n",
    "                name=rowComponents[1],\n",
    "                paramType=ParamTypes[rowComponents[2]]\n",
    "            ))\n",
    "    return result"
   ]
  },
  {
   "cell_type": "code",
   "execution_count": null,
   "metadata": {},
   "outputs": [],
   "source": [
    "localizedStrings: List[LocalizedString] = []\n",
    "for row in sheetStringsContent:\n",
    "    localizedValues = row[rowEstimatedLength - languagesCount:]\n",
    "    localizedValuesDict: Dict[str, str] = {}\n",
    "    for index, localizedValue in enumerate(localizedValues):\n",
    "        localizedValuesDict[languages[index]] = localizedValue\n",
    "\n",
    "    localizedStrings.append(\n",
    "        LocalizedString(\n",
    "            group=row[0],\n",
    "            key=row[1],\n",
    "            comment=row[2],\n",
    "            parameters=parseParams(row[3]),\n",
    "            isUniqueMessage=row[4] == cachedTrueValue,\n",
    "            localizedValues=localizedValuesDict\n",
    "        )\n",
    "    )\n",
    "print(localizedStrings)\n"
   ]
  },
  {
   "cell_type": "markdown",
   "metadata": {},
   "source": [
    "## Unique messages generation"
   ]
  },
  {
   "cell_type": "code",
   "execution_count": null,
   "metadata": {},
   "outputs": [],
   "source": [
    "def classNameFrom(text: str) -> str:\n",
    "    return text[0].upper() + text[1:]\n",
    "\n",
    "def propertyNameFrom(text: str) -> str:\n",
    "    return text[0].lower() + text[1:]"
   ]
  },
  {
   "cell_type": "code",
   "execution_count": null,
   "metadata": {},
   "outputs": [],
   "source": [
    "localizedGroups: Dict[str, List[LocalizedString]] = {}\n",
    "for localizedString in localizedStrings:\n",
    "\n",
    "    if localizedString.isUniqueMessage is False: continue\n",
    "    \n",
    "    if localizedString.group not in localizedGroups:\n",
    "        localizedGroups[localizedString.group] = []\n",
    "    localizedGroups[localizedString.group].append(localizedString)"
   ]
  },
  {
   "cell_type": "code",
   "execution_count": null,
   "metadata": {},
   "outputs": [],
   "source": [
    "def generateClassCodeForGroup(groupName: str, localizedValues: List[LocalizedString]) -> str:\n",
    "    \n",
    "    result = f'export class {classNameFrom(groupName)} '\n",
    "    result += '{'\n",
    "\n",
    "    for localizedString in localizedValues:\n",
    "        \n",
    "        comment = codeFileTab + '/**'\n",
    "        comment += f'\\n{codeFileTab} * {localizedString.localizedValues[defaultLanguage]}'\n",
    "        comment += f'\\n{codeFileTab} */'\n",
    "        # result += f'\\n{comment}'\n",
    "\n",
    "        comm = f'\\n    /** {localizedString.comment} */' if localizedString.comment else ''\n",
    "        \n",
    "        localizedValueSample = localizedString.localizedValues[defaultLanguage].replace('\\n', '\\\\n')\n",
    "        result += f'{comm}\\n{codeFileTab}readonly {propertyNameFrom(localizedString.key)} = \\'{localizedValueSample}\\''\n",
    "    \n",
    "    result += '\\n}'\n",
    "    return result"
   ]
  },
  {
   "cell_type": "code",
   "execution_count": null,
   "metadata": {},
   "outputs": [],
   "source": [
    "uniqueMessagesFileContent = '''// ==================\n",
    "// * Generated file *\n",
    "// ==================\n",
    "\n",
    "export class UniqueMessage {'''\n",
    "\n",
    "for group in localizedGroups:\n",
    "    uniqueMessagesFileContent += f'\\n{codeFileTab}readonly {propertyNameFrom(group)} = new {classNameFrom(group)}()'\n",
    "\n",
    "uniqueMessagesFileContent += '\\n}\\n'\n",
    "\n",
    "for group, localizedString in localizedGroups.items():\n",
    "    uniqueMessagesFileContent += f'\\n{generateClassCodeForGroup(group, localizedString)}\\n'\n",
    "\n",
    "# print(uniqueMessagesFileContent)"
   ]
  },
  {
   "cell_type": "code",
   "execution_count": null,
   "metadata": {},
   "outputs": [],
   "source": [
    "import codecs\n",
    "if isWindows:\n",
    "    with codecs.open(filePathUniqueMessage, 'w', encoding='utf-8') as file:\n",
    "        file.write(uniqueMessagesFileContent)\n",
    "else:\n",
    "    with filePathUniqueMessage.open('w') as file:\n",
    "        file.write(uniqueMessagesFileContent)"
   ]
  },
  {
   "cell_type": "code",
   "execution_count": null,
   "metadata": {},
   "outputs": [],
   "source": []
  }
 ],
 "metadata": {
  "kernelspec": {
   "display_name": "base",
   "language": "python",
   "name": "python3"
  },
  "language_info": {
   "codemirror_mode": {
    "name": "ipython",
    "version": 3
   },
   "file_extension": ".py",
   "mimetype": "text/x-python",
   "name": "python",
   "nbconvert_exporter": "python",
   "pygments_lexer": "ipython3",
   "version": "3.10.7"
  }
 },
 "nbformat": 4,
 "nbformat_minor": 2
}
