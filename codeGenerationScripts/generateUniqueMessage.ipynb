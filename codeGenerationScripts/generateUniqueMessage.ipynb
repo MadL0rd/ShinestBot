{
 "cells": [
  {
   "cell_type": "code",
   "execution_count": 2,
   "metadata": {},
   "outputs": [],
   "source": [
    "from pathlib import Path\n",
    "from typing import List, Dict\n",
    "\n",
    "from Models.LocalizedString import LocalizedString, ParamTypes, LocalizedStringParam\n",
    "import Services.GoogleSheetsService as sheetService\n",
    "from Services.LocalFilesService import LocalFilesService, isWindows"
   ]
  },
  {
   "cell_type": "markdown",
   "metadata": {},
   "source": [
    "## Constants and configurations"
   ]
  },
  {
   "cell_type": "code",
   "execution_count": 3,
   "metadata": {},
   "outputs": [],
   "source": [
    "filesBaseDir = Path(\"./CachedFiles\")\n",
    "filePathLocalizedStringRaw = filesBaseDir / \"LocalizedStringRaw.json\"\n",
    "filePathLocalizedStringGroups = filesBaseDir / \"LocalizedStringGroups.json\"\n",
    "\n",
    "fileService = LocalFilesService(baseFolder=filesBaseDir)"
   ]
  },
  {
   "cell_type": "code",
   "execution_count": 4,
   "metadata": {},
   "outputs": [],
   "source": [
    "defaultLanguage = 'RU'\n",
    "codeFileTab = '    '\n",
    "\n",
    "# filePathUniqueMessage = Path('./bot-content.unique-message.ts')\n",
    "filePathUniqueMessage = Path('../src/core/bot-content/schemas/Models/bot-content.unique-message.ts')"
   ]
  },
  {
   "cell_type": "code",
   "execution_count": 5,
   "metadata": {},
   "outputs": [],
   "source": [
    "cachedTrueValue = 'TRUE'\n",
    "\n",
    "languagesStartSheetLetter = 'F'\n",
    "languagesStartSheetLetterIndex = ord(languagesStartSheetLetter)\n",
    "\n",
    "firstLetter = 'A'\n",
    "firstLetterIndex = ord(firstLetter)\n",
    "\n",
    "lastLetter = 'Z'\n",
    "lastLetterIndex = ord(lastLetter)\n",
    "\n",
    "# Starts from 1\n",
    "configurationRowIndex = 5\n",
    "startSheetLocalizationRowsIndex = 6\n",
    "endSheetLocalizationRowsIndex = 1000"
   ]
  },
  {
   "cell_type": "markdown",
   "metadata": {},
   "source": [
    "## Cache languages configuration"
   ]
  },
  {
   "cell_type": "code",
   "execution_count": 6,
   "metadata": {},
   "outputs": [
    {
     "name": "stdout",
     "output_type": "stream",
     "text": [
      "['RU', 'EN', 'AR', 'TR', 'UK', 'BE', 'KK']\n",
      "Languages count: 7\n",
      "Estimated row length: 12\n"
     ]
    }
   ],
   "source": [
    "languages = sheetService.getContent(\n",
    "    page=sheetService.pages.uniqueMessage,\n",
    "    range=f'{languagesStartSheetLetter}{configurationRowIndex}:{lastLetter}{configurationRowIndex}'\n",
    ")[0]\n",
    "\n",
    "languagesCount = len(languages)\n",
    "rowEstimatedLength = languagesStartSheetLetterIndex - firstLetterIndex + languagesCount\n",
    "print(languages)\n",
    "print(f'Languages count: {languagesCount}')\n",
    "print(f'Estimated row length: {rowEstimatedLength}')"
   ]
  },
  {
   "cell_type": "code",
   "execution_count": 7,
   "metadata": {},
   "outputs": [],
   "source": [
    "def makeSpreadSheetPlaceholderWithIndex(index: int) -> str:\n",
    "    return f'<#{index}>'\n",
    "\n",
    "def makeIosPlaceholderWithIndex(index: int) -> str:\n",
    "    return f'%{index}$@'"
   ]
  },
  {
   "cell_type": "markdown",
   "metadata": {},
   "source": [
    "## Cache spreadsheet localization content"
   ]
  },
  {
   "cell_type": "code",
   "execution_count": 8,
   "metadata": {},
   "outputs": [
    {
     "data": {
      "text/plain": [
       "49"
      ]
     },
     "execution_count": 8,
     "metadata": {},
     "output_type": "execute_result"
    }
   ],
   "source": [
    "sheetStringsContent = sheetService.getContent(\n",
    "    page=sheetService.pages.uniqueMessage, \n",
    "    range=f'{firstLetter}{startSheetLocalizationRowsIndex}:{chr(languagesStartSheetLetterIndex + languagesCount)}{endSheetLocalizationRowsIndex}'\n",
    ")\n",
    "sheetStringsContent = [row for row in sheetStringsContent if len(row) >= rowEstimatedLength]\n",
    "len(sheetStringsContent)"
   ]
  },
  {
   "cell_type": "code",
   "execution_count": 9,
   "metadata": {},
   "outputs": [],
   "source": [
    "def parseParams(rawParamsString: str) -> List[LocalizedStringParam]:\n",
    "    result: List[LocalizedStringParam] = []\n",
    "    for row in rawParamsString.split('\\n'):\n",
    "        rowComponents = [ component.strip() for component in row.split('/') ]\n",
    "        if len(rowComponents) == 3 and rowComponents[2] in ParamTypes._member_names_:\n",
    "            result.append(LocalizedStringParam(\n",
    "                paramKey=rowComponents[0],\n",
    "                name=rowComponents[1],\n",
    "                paramType=ParamTypes[rowComponents[2]]\n",
    "            ))\n",
    "    return result"
   ]
  },
  {
   "cell_type": "code",
   "execution_count": 10,
   "metadata": {},
   "outputs": [
    {
     "name": "stdout",
     "output_type": "stream",
     "text": [
      "[LocalizedString(group='Sample', key='sample', comment='Тестовый текст', parameters=[], isUniqueMessage=False, localizedValues={'RU': 'Пример', 'EN': 'Example', 'AR': 'مثال', 'TR': 'Örnek', 'UK': 'Приклад', 'BE': 'Прыклад', 'KK': 'Мысал'}), LocalizedString(group='Common', key='unknownState', comment='', parameters=[], isUniqueMessage=True, localizedValues={'RU': 'Я тебя не понимаю 😔\\n⬇️ Нажми на кнопку снизу ⬇️', 'EN': \"I don't understand you 😔\\n⬇️ Click on the below button ⬇️\", 'AR': 'أنا لا أفهمك 😔\\n⬇ انقر على الزر أدناه ⬇', 'TR': 'Seni anlamıyorum 😔\\n⬇️ Aşağıdaki düğmeye tıklayın ⬇️', 'UK': 'Я вас не розумію 😔\\n⬇ натисніть кнопку нижче ⬇', 'BE': 'Я цябе не разумею 😔\\n⬇ Націсніце на кнопку ніжэй ⬇', 'KK': 'Мен сені түсінбеймін 😔\\n⬇️ Төмендегі батырманы басыңыз ⬇️'}), LocalizedString(group='Common', key='permissionDenied', comment='', parameters=[], isUniqueMessage=True, localizedValues={'RU': 'У вас нет доступа к этому разделу', 'EN': 'You have no access to this section', 'AR': 'ليس لديك وصول إلى هذا القسم', 'TR': 'Bu bölüme erişiminiz yok', 'UK': 'Ви не маєте доступу до цього розділу', 'BE': 'У вас няма доступу да гэтага раздзела', 'KK': 'Сізде бұл бөлімге кіру мүмкіндігі жоқ'}), LocalizedString(group='Common', key='callbackActionFaild', comment='', parameters=[], isUniqueMessage=True, localizedValues={'RU': 'Не удалось совершить выбраное дейстие', 'EN': 'Failed to make a chosen action', 'AR': 'فشل في اتخاذ إجراء مختار', 'TR': 'Seçilmiş bir eylem yapamadı', 'UK': 'Не вдалося зробити обрану дію', 'BE': 'Не атрымалася зрабіць абранае дзеянне', 'KK': 'Таңдалған әрекетті жасай алмады'}), LocalizedString(group='Common', key='buttonReturnToMainMenu', comment='', parameters=[], isUniqueMessage=True, localizedValues={'RU': '⬅️ В главное меню', 'EN': '⬅️ The main menu', 'AR': '⬅ القائمة الرئيسية', 'TR': '⬅️ Ana menü', 'UK': '⬅ головне меню', 'BE': '⬅ Галоўнае меню', 'KK': '⬅️ Негізгі мәзір'}), LocalizedString(group='Common', key='buttonBackToPreviousMenu', comment='', parameters=[], isUniqueMessage=True, localizedValues={'RU': '⬅️ Вернуться в предыдущее меню', 'EN': '⬅️ Return to the previous menu', 'AR': '⬅ العودة إلى القائمة السابقة', 'TR': '⬅️ Önceki menüye dön', 'UK': '⬅ Повернення до попереднього меню', 'BE': '⬅ Вяртанне ў папярэдняе меню', 'KK': '⬅️ Алдыңғы мәзірге оралыңыз'}), LocalizedString(group='Common', key='bannedUserMessage', comment='', parameters=[], isUniqueMessage=True, localizedValues={'RU': 'Похоже, что вам больше нельзя пользоваться этим ботом', 'EN': 'It seems that you can no longer use this bot', 'AR': 'يبدو أنه لم يعد بإمكانك استخدام هذا الروبوت', 'TR': 'Görünüşe göre bu botu artık kullanamazsın', 'UK': 'Здається, ви більше не можете використовувати цього бота', 'BE': 'Здаецца, вы больш не можаце выкарыстоўваць гэты бот', 'KK': 'Сіз бұдан былай бұл бот қолдануға болмайды'}), LocalizedString(group='Common', key='comingSoon', comment='', parameters=[], isUniqueMessage=True, localizedValues={'RU': 'Эта функция скоро появится', 'EN': 'This function will appear soon', 'AR': 'ستظهر هذه الوظيفة قريبًا', 'TR': 'Bu işlev yakında görünecek', 'UK': 'Ця функція з’явиться незабаром', 'BE': \"Гэтая функцыя з'явіцца ў бліжэйшы час\", 'KK': 'Бұл функция жақында пайда болады'}), LocalizedString(group='Common', key='selectLanguageText', comment='', parameters=[], isUniqueMessage=True, localizedValues={'RU': 'Выберите язык', 'EN': 'Choose language', 'AR': 'اختر اللغة', 'TR': 'Dil seçiniz', 'UK': 'Виберіть мову', 'BE': 'Выбірайце мову', 'KK': 'Тілді таңдаңыз'}), LocalizedString(group='Common', key='errorMessage', comment='', parameters=[], isUniqueMessage=True, localizedValues={'RU': 'Кажется, что-то пошло не по плану 🙄', 'EN': 'It seems that something went not according to the plan 🙄', 'AR': 'يبدو أن شيئًا ما لم يحدث وفقًا للخطة 🙄', 'TR': 'Görünüşe göre bir şey plana göre gitmedi 🙄', 'UK': 'Здається, що щось пішло не відповідно до плану 🙄', 'BE': 'Здаецца, нешта прайшло не ў адпаведнасці з планам 🙄', 'KK': 'Жоспарға сәйкес ештеңе жоқ сияқты'}), LocalizedString(group='mainMenu', key='Text', comment='', parameters=[], isUniqueMessage=True, localizedValues={'RU': 'Ты оказался в главном меню 😊', 'EN': 'You found yourself in the main menu 😊', 'AR': 'لقد وجدت نفسك في القائمة الرئيسية 😊', 'TR': 'Kendinizi ana menüde buldunuz 😊', 'UK': 'Ви опинилися в головному меню 😊', 'BE': 'Вы апынуліся ў галоўным меню 😊', 'KK': 'Сіз өзіңізді негізгі мәзірден таптыңыз 😊'}), LocalizedString(group='mainMenu', key='TextRepoLink', comment='', parameters=[], isUniqueMessage=True, localizedValues={'RU': 'https://github.com/MadL0rd/ShinestBot', 'EN': 'https://github.com/madl0rd/shinestbot', 'AR': 'https://github.com/madl0rd/shinestbot', 'TR': 'https://github.com/madl0rd/shinestbot', 'UK': 'https://github.com/madl0rd/shinestbot', 'BE': 'https://github.com/madl0rd/shinestbot', 'KK': 'https://github.com/madl0rd/shinestbot'}), LocalizedString(group='mainMenu', key='ButtonAdminMenu', comment='', parameters=[], isUniqueMessage=True, localizedValues={'RU': '🔐 Меню администратора', 'EN': '🔐 Administrator menu', 'AR': '🔐 قائمة المسؤول', 'TR': '🔐 Yönetici menüsü', 'UK': '🔐 Меню адміністратора', 'BE': '🔐 Меню адміністратара', 'KK': '🔐 Әкімші мәзірі'}), LocalizedString(group='mainMenu', key='ButtonRepoLink', comment='', parameters=[], isUniqueMessage=True, localizedValues={'RU': '📂 Репозиторий', 'EN': '📂 Repository', 'AR': '📂 مستودع', 'TR': '📂 Depo', 'UK': '📂 Репозиторій', 'BE': '📂 Рэпазітар', 'KK': '📂 қоймасы'}), LocalizedString(group='mainMenu', key='ButtonLanguageSettings', comment='', parameters=[], isUniqueMessage=True, localizedValues={'RU': '🌎 Выбрать другой язык', 'EN': '🌎 choose another language', 'AR': '🌎 اختر لغة أخرى', 'TR': '🌎 Başka bir dil seçin', 'UK': '🌎 Виберіть іншу мову', 'BE': '🌎 Абярыце іншую мову', 'KK': '🌎 Басқа тілді таңдаңыз'}), LocalizedString(group='adminMenu', key='Text', comment='', parameters=[], isUniqueMessage=True, localizedValues={'RU': 'Вы в меню администратора', 'EN': 'You are in the administrator menu', 'AR': 'أنت في قائمة المسؤول', 'TR': 'Yönetici menüsündesiniz', 'UK': 'Ви в меню адміністратора', 'BE': 'Вы знаходзіцеся ў меню адміністратара', 'KK': 'Сіз әкімші мәзірінде'}), LocalizedString(group='adminMenu', key='ButtonReloadData', comment='', parameters=[], isUniqueMessage=True, localizedValues={'RU': '📥 Стянуть новые тексты из гугл таблицы', 'EN': '📥 pull new texts from Google tables', 'AR': '📥 سحب نصوص جديدة من طاولات Google', 'TR': '📥 Google tablolarından yeni metinler çekin', 'UK': '📥 Витягніть нові тексти з столів Google', 'BE': '📥 Выцягніце новыя тэксты з табліц Google', 'KK': '📥 Жаңа мәтіндерді Google кестелерінен тартыңыз'}), LocalizedString(group='adminMenu', key='ButtonDownloadTables', comment='', parameters=[], isUniqueMessage=True, localizedValues={'RU': '📊 Выгрузить данные об использовании бота', 'EN': '📊 Unload data on the use of the bot', 'AR': '📊 تفريغ البيانات حول استخدام الروبوت', 'TR': '📊 Bot kullanımıyla ilgili verileri boşaltın', 'UK': '📊 Вивантажте дані про використання бота', 'BE': '📊 Разгрузіць дадзеныя аб выкарыстанні бота', 'KK': '📊 Боттың қолданылуына деректерді түсіру'}), LocalizedString(group='adminMenu', key='ButtonUsersManagement', comment='', parameters=[], isUniqueMessage=True, localizedValues={'RU': '📋 Управление правами доступа пользователей', 'EN': '📋 User access rights management', 'AR': '📋 إدارة حقوق وصول المستخدم', 'TR': '📋 Kullanıcı erişim hakları yönetimi', 'UK': '📋 Управління правами доступу до користувачів', 'BE': '📋 Кіраванне правамі доступу карыстальніка', 'KK': '📋 Пайдаланушының кіру құқығын басқару'}), LocalizedString(group='adminMenu', key='ButtonMailing', comment='', parameters=[], isUniqueMessage=True, localizedValues={'RU': '📨 Рассылка', 'EN': '📨 Sending', 'AR': '📨 إرسال', 'TR': '📨 Gönderme', 'UK': '📨 Відправлення', 'BE': '📨 Адпраўка', 'KK': '📨 Жіберу'}), LocalizedString(group='adminMenu', key='ReturnBack', comment='', parameters=[], isUniqueMessage=True, localizedValues={'RU': '⬅️ Вернуться в меню администратора', 'EN': '⬅️ Return to the Administrator menu', 'AR': '⬅ العودة إلى قائمة المسؤول', 'TR': '⬅️ Yönetici menüsüne dön', 'UK': '⬅ Повернення до меню адміністратора', 'BE': '⬅ Вяртанне ў меню адміністратара', 'KK': '⬅️ Әкімші мәзіріне оралыңыз'}), LocalizedString(group='adminMenu', key='MailingText', comment='', parameters=[], isUniqueMessage=True, localizedValues={'RU': 'Введите сообщение\\nПеред рассылкой сообщение будет продублировано для проверки', 'EN': 'Enter your message\\nBefore the mailing, the message will be duplicated for verification', 'AR': 'أدخل رسالتك\\nقبل البريد ، سيتم تكرار الرسالة للتحقق', 'TR': 'Mesajınızı girin\\nPostadan önce, mesaj doğrulama için çoğaltılacaktır', 'UK': 'Введіть повідомлення\\nПеред розсилкою повідомлення буде дублюється для перевірки', 'BE': 'Увядзіце сваё паведамленне\\nПерад рассылкай паведамленне будзе дубліравана для праверкі', 'KK': 'Хабарламаңызды енгізіңіз\\nХабарлама алдында хабарлама тексеру үшін қайталанады'}), LocalizedString(group='adminMenu', key='MailingTextChekMessage', comment='', parameters=[], isUniqueMessage=True, localizedValues={'RU': 'Вы собираетесь отправить пользователям следующее сообщение:', 'EN': 'You are going to send users the following message:', 'AR': 'سترسل للمستخدمين الرسالة التالية:', 'TR': 'Kullanıcılara aşağıdaki mesajı göndereceksiniz:', 'UK': 'Ви збираєтеся надсилати користувачам таке повідомлення:', 'BE': 'Вы збіраецеся дасылаць карыстальнікам наступнае паведамленне:', 'KK': 'Сіз келесі хабарламаны пайдаланушыларға жібергіңіз келеді:'}), LocalizedString(group='adminMenu', key='MailingButtonSend', comment='', parameters=[], isUniqueMessage=True, localizedValues={'RU': 'Начать отправку', 'EN': 'Start sending', 'AR': 'ابدأ بالإرسال', 'TR': 'Göndermeye Başla', 'UK': 'Почніть надсилати', 'BE': 'Пачніце адпраўляць', 'KK': 'Жіберуді бастаңыз'}), LocalizedString(group='adminMenu', key='MailingButtonCancel', comment='', parameters=[], isUniqueMessage=True, localizedValues={'RU': 'Отмена', 'EN': 'Cancellation', 'AR': 'إلغاء', 'TR': 'İptal', 'UK': 'Відміна', 'BE': 'Ануляванне', 'KK': 'Күшін жою'}), LocalizedString(group='adminMenu', key='UsersManagementTextFindUser', comment='', parameters=[], isUniqueMessage=True, localizedValues={'RU': 'Для поиска пользователя введите его id либо usermane в формате @username', 'EN': 'To search the user, enter it id or usermane in @USERNAME format', 'AR': 'للبحث في المستخدم ، أدخل معرفه أو usermane بتنسيق اسم @', 'TR': 'Kullanıcıyı aramak için @username biçiminde kimlik veya usermane girin', 'UK': 'Щоб шукати користувача, введіть його ідентифікатор або usermane у форматі @username', 'BE': 'Для пошуку карыстальніка ўвядзіце яго ідэнтыфікатар або Usermane ў фармаце @username', 'KK': 'Пайдаланушыны іздеу үшін @ lame форматында ID немесе Usermane енгізіңіз'}), LocalizedString(group='adminMenu', key='UsersManagementPermissionsInfo', comment='', parameters=[], isUniqueMessage=True, localizedValues={'RU': 'Информация о модификаторах доступа:\\n*owner* - Вдаделец бота: может назначать администраторов + имеет все права администратора)\\n*admin* - Администратор: доступен вход в меню администратора, назначение ролей кроме owner и admin\\n*banned* - Заблокированый пользователь (админ и владелец не могут быть заблокированы, если необходимо заблокировать администратора, то сначала нужно забрать у него админский уровень доступа)', 'EN': 'Information about access modifiers:\\n* Owner* - Bota departure: can appoint administrators + has all the rights of the administrator)\\n* Admin* - Administrator: Entrance to the administrator menu is available, roles and admin roles.\\n* Banned* - a blocked user (the admin and the owner cannot be blocked, if the administrator must be blocked, then you first need to take the admin level from him)', 'AR': 'معلومات حول معدلات الوصول:\\n* المالك* - BOTA DEOPLE: CAN HINDENT ADMINSS + لديه جميع حقوق المسؤول)\\n* المسؤول* - المسؤول: مدخل قائمة المسؤول متاح ، أدوار وأدوار المسؤول.\\n* محظور* - مستخدم محظور (لا يمكن حظر المسؤول والمالك ، إذا كان يجب حظر المسؤول ، فأنت بحاجة أولاً إلى أخذ مستوى المسؤول منه)', 'TR': 'Erişim Değiştiricileri Hakkında Bilgiler:\\n* Sahibi* - Bota Kalkış: Yöneticileri atlayabilir + Yöneticinin tüm haklarına sahiptir)\\n* Yönetici* - Yönetici: Yönetici menüsüne giriş, roller ve yönetici rolleri mevcuttur.\\n* Yasaklandı* - Engellenmiş bir kullanıcı (yönetici ve sahibi engellenemez, yöneticinin engellenmesi gerekiyorsa, önce yönetici seviyesini ondan almanız gerekir)', 'UK': \"Інформація про модифікатори доступу:\\n* Власник* - Від'їзд Бота: може призначити адміністратори + має всі права адміністратора)\\n* Адміністратор* - Адміністратор: вхід до меню адміністратора доступний, ролі та ролі адміністратора.\\n* Заборонено* - заблокований користувач (адміністратор та власник не можуть бути заблоковані, якщо адміністратор повинен бути заблокований, то спочатку потрібно взяти рівень адміністратора)\", 'BE': \"Інфармацыя пра мадыфікатары доступу:\\n* Уладальнік* - Ад'езд бота: Можа прызначаць адміністратараў + мае ўсе правы адміністратара)\\n* Адміністратар* - Адміністратар: Уваход у меню адміністратара даступны, ролі і адміністратар.\\n* Забаронены* - Заблакаваны карыстальнік (адміністратар і ўладальнік не могуць быць заблакаваны, калі адміністратар павінен быць заблакаваны, то спачатку трэба ўзяць у яго ўзровень адміністратара)\", 'KK': 'Қол жеткізу модификаторлары туралы ақпарат:\\n* Иесі * - «БОТА» қорының кетуі: Әкімшілердің + әкімшісінің барлық құқықтары бар)\\n* Admin * - Әкімші: Әкімші мәзіріне кіру қол жетімді, рөлдер және әкімші рөлдері.\\n.'}), LocalizedString(group='adminMenu', key='UsersManagementButtonEditPermissions', comment='', parameters=[], isUniqueMessage=True, localizedValues={'RU': 'Управлять правами доступа', 'EN': 'Manage access rights', 'AR': 'إدارة حقوق الوصول', 'TR': 'Erişim haklarını yönetin', 'UK': 'Керуйте правами доступу', 'BE': 'Кіруйце правамі на доступ', 'KK': 'Қол жеткізу құқығын басқару'}), LocalizedString(group='adminMenu', key='UsersManagementButtonNewSearch', comment='', parameters=[], isUniqueMessage=True, localizedValues={'RU': 'Новый поиск', 'EN': 'New search', 'AR': 'بحث جديد', 'TR': 'Yeni arama', 'UK': 'Новий пошук', 'BE': 'Новы пошук', 'KK': 'Жаңа іздеу'}), LocalizedString(group='adminMenuMetrics', key='SelectDateText', comment='', parameters=[], isUniqueMessage=True, localizedValues={'RU': 'Выберите период', 'EN': 'Choose the period', 'AR': 'اختر الفترة', 'TR': 'Dönemi seçin', 'UK': 'Виберіть період', 'BE': 'Выберыце перыяд', 'KK': 'Кезеңді таңдаңыз'}), LocalizedString(group='adminMenuMetrics', key='SelectDateMonth', comment='', parameters=[], isUniqueMessage=True, localizedValues={'RU': 'Месяц', 'EN': 'Month', 'AR': 'شهر', 'TR': 'Ay', 'UK': 'Місяць', 'BE': 'Месяц', 'KK': 'Ай'}), LocalizedString(group='adminMenuMetrics', key='SelectDateQuarter', comment='', parameters=[], isUniqueMessage=True, localizedValues={'RU': 'Квартал', 'EN': 'Quarter', 'AR': 'ربع', 'TR': 'Çeyrek', 'UK': 'Чверть', 'BE': 'Чвэрць', 'KK': 'Ширек'}), LocalizedString(group='adminMenuMetrics', key='SelectDateYear', comment='', parameters=[], isUniqueMessage=True, localizedValues={'RU': 'Год', 'EN': 'Year', 'AR': 'سنة', 'TR': 'Yıl', 'UK': 'Рік', 'BE': 'Год', 'KK': 'Жыл'}), LocalizedString(group='payment', key='Text', comment='', parameters=[], isUniqueMessage=True, localizedValues={'RU': 'Что хотите приобрести?', 'EN': 'What do you want to buy?', 'AR': 'ماذا تريد ان تشتري؟', 'TR': 'Ne almak istiyorsun?', 'UK': 'Що ви хочете купити?', 'BE': 'Што вы хочаце купіць?', 'KK': 'Сіз не сатып алғыңыз келеді?'}), LocalizedString(group='notification', key='MorningTextDefault', comment='Будет использоваться в случае, если chatGPT по какой-либо причине не ответил на наш запрос', parameters=[], isUniqueMessage=True, localizedValues={'RU': 'Доброе утро!', 'EN': 'Good morning!', 'AR': 'صباح الخير!', 'TR': 'Günaydın!', 'UK': 'Добрий ранок!', 'BE': 'Добрай раніцы!', 'KK': 'Қайырлы таң!'}), LocalizedString(group='notification', key='MorningTextGptPromt', comment='Промт для GPT', parameters=[], isUniqueMessage=True, localizedValues={'RU': 'Напишите текст утреннего уведомления для человека неизвестного пола.', 'EN': 'Write the text of the morning notification for a person of an unknown gender.', 'AR': 'اكتب نص إخطار الصباح لشخص من جنس غير معروف.', 'TR': 'Bilinmeyen bir cinsiyete sahip bir kişi için sabah bildiriminin metnini yazın.', 'UK': 'Напишіть текст ранкового повідомлення про людину невідомої статі.', 'BE': 'Напішыце тэкст ранішняга апавяшчэння для чалавека невядомага полу.', 'KK': 'Белгісіз жыныстық қатынас туралы таңғажайып хабарлама мәтінін жазыңыз.'}), LocalizedString(group='notification', key='EveningTextDefault', comment='Будет использоваться в случае, если chatGPT по какой-либо причине не ответил на наш запрос', parameters=[], isUniqueMessage=True, localizedValues={'RU': 'Добрый вечер!', 'EN': 'Good evening!', 'AR': 'مساء الخير!', 'TR': 'İyi akşamlar!', 'UK': 'Добрий вечір!', 'BE': 'Добры вечар!', 'KK': 'Қайырлы кеш!'}), LocalizedString(group='notification', key='EveningTextGptPromt', comment='Промт для GPT', parameters=[], isUniqueMessage=True, localizedValues={'RU': 'Напишите текст вечернего уведомления для человека неизвестного пола.', 'EN': 'Write the text of an evening notification for a person of an unknown gender.', 'AR': 'اكتب نص إخطار المساء لشخص من جنس غير معروف.', 'TR': 'Bilinmeyen bir cinsiyete sahip bir kişi için bir akşam bildirimi metnini yazın.', 'UK': 'Напишіть текст вечірнього сповіщення про людину невідомої статі.', 'BE': 'Напішыце тэкст вячэрняга апавяшчэння для чалавека невядомага полу.', 'KK': 'Белгісіз жынысқан адамға кешкі хабарлама мәтінін жазыңыз.'}), LocalizedString(group='notification', key='ButtonFairytale', comment='', parameters=[], isUniqueMessage=True, localizedValues={'RU': 'Написать терапевтическую сказку', 'EN': 'Write a therapeutic fairy tale', 'AR': 'اكتب قصة خرافية علاجية', 'TR': 'Terapötik bir peri masalı yaz', 'UK': 'Напишіть терапевтичну казку', 'BE': 'Напішыце тэрапеўтычную казку', 'KK': 'Терапевтік ертегі жазыңыз'}), LocalizedString(group='notification', key='ButtonMainMenu', comment='', parameters=[], isUniqueMessage=True, localizedValues={'RU': 'Перейти в главное меню', 'EN': 'Go to the main menu', 'AR': 'انتقل إلى القائمة الرئيسية', 'TR': 'Ana menüye git', 'UK': 'Перейдіть до головного меню', 'BE': 'Перайдзіце ў галоўнае меню', 'KK': 'Негізгі мәзірге өтіңіз'}), LocalizedString(group='notification', key='SubscriptionText', comment='', parameters=[], isUniqueMessage=True, localizedValues={'RU': 'Дорогой друг, некоторые твои подписки скоро истекают:', 'EN': 'Dear friend, some of your subscriptions soon expire:', 'AR': 'صديقي العزيز ، بعض من اشتراكاتك سرعان ما تنتهي:', 'TR': 'Sevgili dostum, bazı abonelikleriniz yakında sona eriyor:', 'UK': 'Шановний друже, деякі з ваших підписки незабаром закінчуються:', 'BE': 'Дарагі сябар, некаторыя з вашых падпіскі неўзабаве мінаюць:', 'KK': 'Қымбатты досым, жақында кейбір жазылымдарыңыз аяқталады:'}), LocalizedString(group='notification', key='ButtonSubscriptionText', comment='', parameters=[], isUniqueMessage=True, localizedValues={'RU': 'Оплатить', 'EN': 'Pay', 'AR': 'يدفع', 'TR': 'Ödemek', 'UK': 'Оплачувати', 'BE': 'Плаціць', 'KK': 'Төлеу'}), LocalizedString(group='notification', key='QuantityDaysBeforeSubscriptionNotification', comment='За сколько дней до окончания подписки на пакет начнут приходить уведомления', parameters=[], isUniqueMessage=True, localizedValues={'RU': '7', 'EN': '7', 'AR': '7', 'TR': '7', 'UK': '7', 'BE': '7', 'KK': '7'}), LocalizedString(group='notification', key='MorningTimeList', comment='Список из времён доступных пользователю для установки утренних уведомлений', parameters=[], isUniqueMessage=True, localizedValues={'RU': '07:00\\n07:30\\n08:00\\n08:30\\n09:00\\n09:30\\n10:00\\n10:30\\n11:00', 'EN': '07:00\\n07:30\\n08:00\\n08:30\\n09:00\\n09:30\\n10:00\\n10:30\\n11:00', 'AR': '07:00\\n07:30\\n08:00\\n08:30\\n09:00\\n09:30\\n10:00\\n10:30\\n11:00', 'TR': '07:00\\n07:30\\n08:00\\n08:30\\n09:00\\n09:30\\n10:00\\n10:30\\n11:00', 'UK': '07:00\\n07:30\\n08:00\\n08:30\\n09:00\\n09:30\\n10:00\\n10:30\\n11:00', 'BE': '07:00\\n07:30\\n08:00\\n08:30\\n09:00\\n09:30\\n10:00\\n10:30\\n11:00', 'KK': '07:00\\n07:30\\n08:00\\n08:30\\n09:00\\n09:30\\n10:00\\n10:30\\n11:00'}), LocalizedString(group='notification', key='MorningTimeDefault', comment='Время утреннего уведомления по умолчанию', parameters=[], isUniqueMessage=True, localizedValues={'RU': '08:00', 'EN': '08:00', 'AR': '08:00', 'TR': '08:00', 'UK': '08:00', 'BE': '08:00', 'KK': '08:00'}), LocalizedString(group='notification', key='EveningTimeList', comment='Список из времён доступных пользователю для установки вечерних уведомлений', parameters=[], isUniqueMessage=True, localizedValues={'RU': '18:00\\n18:30\\n19:00\\n19:30\\n20:00\\n20:30\\n21:00\\n21:30\\n22:00', 'EN': '18:00\\n18:30\\n19:00\\n19:30\\n20:00\\n20:30\\n21:00\\n21:30\\n22:00', 'AR': '18:00\\n18:30\\n19:00\\n19:30\\n20:00\\n20:30\\n21:00\\n21:30\\n22:00', 'TR': '18:00\\n18:30\\n19:00\\n19:30\\n20:00\\n20:30\\n21:00\\n21:30\\n22:00', 'UK': '18:00\\n18:30\\n19:00\\n19:30\\n20:00\\n20:30\\n21:00\\n21:30\\n22:00', 'BE': '18:00\\n18:30\\n19:00\\n19:30\\n20:00\\n20:30\\n21:00\\n21:30\\n22:00', 'KK': '18:00\\n18:30\\n19:00\\n19:30\\n20:00\\n20:30\\n21:00\\n21:30\\n22:00'}), LocalizedString(group='notification', key='EveningTimeDefault', comment='Время вечернего уведомления по умолчанию', parameters=[], isUniqueMessage=True, localizedValues={'RU': '22:15', 'EN': '22:15', 'AR': '22:15', 'TR': '22:15', 'UK': '22:15', 'BE': '22:15', 'KK': '22:15'}), LocalizedString(group='notification', key='SubscriptionTime', comment='Время для уведомлений о скором окончании подписки', parameters=[], isUniqueMessage=True, localizedValues={'RU': '20:04', 'EN': '20:04', 'AR': '20:04', 'TR': '20:04', 'UK': '20:04', 'BE': '20:04', 'KK': '20:04'}), LocalizedString(group='notification', key='ButtonDontSend', comment='Кнопка, по нажатию на которую в настройках можно отказаться от получения уведомлений данного типа', parameters=[], isUniqueMessage=True, localizedValues={'RU': 'Не отправлять', 'EN': 'Do not send', 'AR': 'لا ترسل', 'TR': 'Gönderme', 'UK': 'Не відправляти', 'BE': 'Не адпраўляць', 'KK': 'Жібермеңіз'})]\n"
     ]
    }
   ],
   "source": [
    "localizedStrings: List[LocalizedString] = []\n",
    "for row in sheetStringsContent:\n",
    "    localizedValues = row[rowEstimatedLength - languagesCount:]\n",
    "    localizedValuesDict: Dict[str, str] = {}\n",
    "    for index, localizedValue in enumerate(localizedValues):\n",
    "        localizedValuesDict[languages[index]] = localizedValue\n",
    "\n",
    "    localizedStrings.append(\n",
    "        LocalizedString(\n",
    "            group=row[0],\n",
    "            key=row[1],\n",
    "            comment=row[2],\n",
    "            parameters=parseParams(row[3]),\n",
    "            isUniqueMessage=row[4] == cachedTrueValue,\n",
    "            localizedValues=localizedValuesDict\n",
    "        )\n",
    "    )\n",
    "print(localizedStrings)\n"
   ]
  },
  {
   "cell_type": "markdown",
   "metadata": {},
   "source": [
    "## Unique messages generation"
   ]
  },
  {
   "cell_type": "code",
   "execution_count": 11,
   "metadata": {},
   "outputs": [],
   "source": [
    "def classNameFrom(text: str) -> str:\n",
    "    return text[0].upper() + text[1:]\n",
    "\n",
    "def propertyNameFrom(text: str) -> str:\n",
    "    return text[0].lower() + text[1:]"
   ]
  },
  {
   "cell_type": "code",
   "execution_count": 12,
   "metadata": {},
   "outputs": [],
   "source": [
    "localizedGroups: Dict[str, List[LocalizedString]] = {}\n",
    "for localizedString in localizedStrings:\n",
    "\n",
    "    if localizedString.isUniqueMessage is False: continue\n",
    "    \n",
    "    if localizedString.group not in localizedGroups:\n",
    "        localizedGroups[localizedString.group] = []\n",
    "    localizedGroups[localizedString.group].append(localizedString)"
   ]
  },
  {
   "cell_type": "code",
   "execution_count": 13,
   "metadata": {},
   "outputs": [],
   "source": [
    "def generateClassCodeForGroup(groupName: str, localizedValues: List[LocalizedString]) -> str:\n",
    "    \n",
    "    result = f'export class {classNameFrom(groupName)} '\n",
    "    result += '{'\n",
    "\n",
    "    for localizedString in localizedValues:\n",
    "        \n",
    "        comment = codeFileTab + '/**'\n",
    "        comment += f'\\n{codeFileTab} * {localizedString.localizedValues[defaultLanguage]}'\n",
    "        comment += f'\\n{codeFileTab} */'\n",
    "        # result += f'\\n{comment}'\n",
    "        \n",
    "        localizedValueSample = localizedString.localizedValues[defaultLanguage].replace('\\n', '\\\\n')\n",
    "        result += f'\\n{codeFileTab}readonly {propertyNameFrom(localizedString.key)} = \\'{localizedValueSample}\\''\n",
    "    \n",
    "    result += '\\n}'\n",
    "    return result"
   ]
  },
  {
   "cell_type": "code",
   "execution_count": 14,
   "metadata": {},
   "outputs": [],
   "source": [
    "uniqueMessagesFileContent = '''// ==================\n",
    "// * Generated file *\n",
    "// ==================\n",
    "\n",
    "export class UniqueMessage {'''\n",
    "\n",
    "for group in localizedGroups:\n",
    "    uniqueMessagesFileContent += f'\\n{codeFileTab}readonly {propertyNameFrom(group)} = new {classNameFrom(group)}()'\n",
    "\n",
    "uniqueMessagesFileContent += '\\n}\\n'\n",
    "\n",
    "for group, localizedString in localizedGroups.items():\n",
    "    uniqueMessagesFileContent += f'\\n{generateClassCodeForGroup(group, localizedString)}\\n'\n",
    "\n",
    "# print(uniqueMessagesFileContent)"
   ]
  },
  {
   "cell_type": "code",
   "execution_count": 15,
   "metadata": {},
   "outputs": [],
   "source": [
    "if isWindows:\n",
    "    with filePathUniqueMessage.open('w', encoding='utf-8') as file:\n",
    "        file.write(uniqueMessagesFileContent)\n",
    "else:\n",
    "    with filePathUniqueMessage.open('w') as file:\n",
    "        file.write(uniqueMessagesFileContent)"
   ]
  },
  {
   "cell_type": "code",
   "execution_count": null,
   "metadata": {},
   "outputs": [],
   "source": []
  }
 ],
 "metadata": {
  "kernelspec": {
   "display_name": "base",
   "language": "python",
   "name": "python3"
  },
  "language_info": {
   "codemirror_mode": {
    "name": "ipython",
    "version": 3
   },
   "file_extension": ".py",
   "mimetype": "text/x-python",
   "name": "python",
   "nbconvert_exporter": "python",
   "pygments_lexer": "ipython3",
   "version": "3.8.3"
  }
 },
 "nbformat": 4,
 "nbformat_minor": 2
}
