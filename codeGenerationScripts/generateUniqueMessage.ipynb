{
 "cells": [
  {
   "cell_type": "code",
   "execution_count": 29,
   "metadata": {},
   "outputs": [],
   "source": [
    "from pathlib import Path\n",
    "from typing import List, Dict\n",
    "\n",
    "from Models.LocalizedString import LocalizedString, ParamTypes, LocalizedStringParam\n",
    "import Services.GoogleSheetsService as sheetService\n",
    "from Services.LocalFilesService import LocalFilesService"
   ]
  },
  {
   "cell_type": "markdown",
   "metadata": {},
   "source": [
    "## Constants and configurations"
   ]
  },
  {
   "cell_type": "code",
   "execution_count": 30,
   "metadata": {},
   "outputs": [],
   "source": [
    "filesBaseDir = Path(\"./CachedFiles\")\n",
    "filePathLocalizedStringRaw = filesBaseDir / \"LocalizedStringRaw.json\"\n",
    "filePathLocalizedStringGroups = filesBaseDir / \"LocalizedStringGroups.json\"\n",
    "\n",
    "fileService = LocalFilesService(baseFolder=filesBaseDir)"
   ]
  },
  {
   "cell_type": "code",
   "execution_count": 31,
   "metadata": {},
   "outputs": [],
   "source": [
    "defaultLanguage = 'RU'\n",
    "codeFileTab = '    '\n",
    "\n",
    "# filePathUniqueMessage = Path('./bot-content.unique-message.ts')\n",
    "filePathUniqueMessage = Path('../src/core/bot-content/schemas/Models/bot-content.unique-message.ts')"
   ]
  },
  {
   "cell_type": "code",
   "execution_count": 32,
   "metadata": {},
   "outputs": [],
   "source": [
    "cachedTrueValue = 'TRUE'\n",
    "\n",
    "languagesStartSheetLetter = 'F'\n",
    "languagesStartSheetLetterIndex = ord(languagesStartSheetLetter)\n",
    "\n",
    "firstLetter = 'A'\n",
    "firstLetterIndex = ord(firstLetter)\n",
    "\n",
    "lastLetter = 'Z'\n",
    "lastLetterIndex = ord(lastLetter)\n",
    "\n",
    "# Starts from 1\n",
    "configurationRowIndex = 5\n",
    "startSheetLocalizationRowsIndex = 6\n",
    "endSheetLocalizationRowsIndex = 1000"
   ]
  },
  {
   "cell_type": "markdown",
   "metadata": {},
   "source": [
    "## Cache languages configuration"
   ]
  },
  {
   "cell_type": "code",
   "execution_count": 33,
   "metadata": {},
   "outputs": [
    {
     "name": "stdout",
     "output_type": "stream",
     "text": [
      "['RU', 'EN', 'AR', 'TR']\n",
      "Languages count: 4\n",
      "Estimated row length: 9\n"
     ]
    }
   ],
   "source": [
    "languages = sheetService.getContent(\n",
    "    page=sheetService.pages.uniqueMessage,\n",
    "    range=f'{languagesStartSheetLetter}{configurationRowIndex}:{lastLetter}{configurationRowIndex}'\n",
    ")[0]\n",
    "\n",
    "languagesCount = len(languages)\n",
    "rowEstimatedLength = languagesStartSheetLetterIndex - firstLetterIndex + languagesCount\n",
    "print(languages)\n",
    "print(f'Languages count: {languagesCount}')\n",
    "print(f'Estimated row length: {rowEstimatedLength}')"
   ]
  },
  {
   "cell_type": "code",
   "execution_count": 34,
   "metadata": {},
   "outputs": [],
   "source": [
    "def makeSpreadSheetPlaceholderWithIndex(index: int) -> str:\n",
    "    return f'<#{index}>'\n",
    "\n",
    "def makeIosPlaceholderWithIndex(index: int) -> str:\n",
    "    return f'%{index}$@'"
   ]
  },
  {
   "cell_type": "markdown",
   "metadata": {},
   "source": [
    "## Cache spreadsheet localization content"
   ]
  },
  {
   "cell_type": "code",
   "execution_count": 35,
   "metadata": {},
   "outputs": [
    {
     "data": {
      "text/plain": [
       "30"
      ]
     },
     "execution_count": 35,
     "metadata": {},
     "output_type": "execute_result"
    }
   ],
   "source": [
    "sheetStringsContent = sheetService.getContent(\n",
    "    page=sheetService.pages.uniqueMessage, \n",
    "    range=f'{firstLetter}{startSheetLocalizationRowsIndex}:{chr(languagesStartSheetLetterIndex + languagesCount)}{endSheetLocalizationRowsIndex}'\n",
    ")\n",
    "sheetStringsContent = [row for row in sheetStringsContent if len(row) >= rowEstimatedLength]\n",
    "len(sheetStringsContent)"
   ]
  },
  {
   "cell_type": "code",
   "execution_count": 36,
   "metadata": {},
   "outputs": [],
   "source": [
    "def parseParams(rawParamsString: str) -> List[LocalizedStringParam]:\n",
    "    result: List[LocalizedStringParam] = []\n",
    "    for row in rawParamsString.split('\\n'):\n",
    "        rowComponents = [ component.strip() for component in row.split('/') ]\n",
    "        if len(rowComponents) == 3 and rowComponents[2] in ParamTypes._member_names_:\n",
    "            result.append(LocalizedStringParam(\n",
    "                paramKey=rowComponents[0],\n",
    "                name=rowComponents[1],\n",
    "                paramType=ParamTypes[rowComponents[2]]\n",
    "            ))\n",
    "    return result"
   ]
  },
  {
   "cell_type": "code",
   "execution_count": 37,
   "metadata": {},
   "outputs": [
    {
     "name": "stdout",
     "output_type": "stream",
     "text": [
      "[LocalizedString(group='Sample', key='sample', comment='Тестовый текст', parameters=[], isUniqueMessage=False, localizedValues={'RU': 'Пример', 'EN': 'Example', 'AR': 'مثال', 'TR': 'Örnek'}), LocalizedString(group='Common', key='unknownState', comment='', parameters=[], isUniqueMessage=True, localizedValues={'RU': 'Я тебя не понимаю 😔\\n⬇️ Нажми на кнопку снизу ⬇️', 'EN': \"I don't understand you 😔\\n⬇️ Click on the below button ⬇️\", 'AR': 'أنا لا أفهمك 😔\\n⬇ انقر على الزر أدناه ⬇', 'TR': 'Seni anlamıyorum 😔\\n⬇️ Aşağıdaki düğmeye tıklayın ⬇️'}), LocalizedString(group='Common', key='permissionDenied', comment='', parameters=[], isUniqueMessage=True, localizedValues={'RU': 'У вас нет доступа к этому разделу', 'EN': 'You have no access to this section', 'AR': 'ليس لديك وصول إلى هذا القسم', 'TR': 'Bu bölüme erişiminiz yok'}), LocalizedString(group='Common', key='callbackActionFaild', comment='', parameters=[], isUniqueMessage=True, localizedValues={'RU': 'Не удалось совершить выбраное дейстие', 'EN': 'Failed to make a chosen action', 'AR': 'فشل في اتخاذ إجراء مختار', 'TR': 'Seçilmiş bir eylem yapamadı'}), LocalizedString(group='Common', key='buttonReturnToMainMenu', comment='', parameters=[], isUniqueMessage=True, localizedValues={'RU': '⬅️ В главное меню', 'EN': '⬅️ The main menu', 'AR': '⬅ القائمة الرئيسية', 'TR': '⬅️ Ana menü'}), LocalizedString(group='Common', key='buttonBackToPreviousMenu', comment='', parameters=[], isUniqueMessage=True, localizedValues={'RU': '⬅️ Вернуться в предыдущее меню', 'EN': '⬅️ Return to the previous menu', 'AR': '⬅ العودة إلى القائمة السابقة', 'TR': '⬅️ Önceki menüye dön'}), LocalizedString(group='Common', key='bannedUserMessage', comment='', parameters=[], isUniqueMessage=True, localizedValues={'RU': 'Похоже, что вам больше нельзя пользоваться этим ботом', 'EN': 'It seems that you can no longer use this bot', 'AR': 'يبدو أنه لم يعد بإمكانك استخدام هذا الروبوت', 'TR': 'Görünüşe göre bu botu artık kullanamazsın'}), LocalizedString(group='Common', key='comingSoon', comment='', parameters=[], isUniqueMessage=True, localizedValues={'RU': 'Эта функция скоро появится', 'EN': 'This function will appear soon', 'AR': 'ستظهر هذه الوظيفة قريبًا', 'TR': 'Bu işlev yakında görünecek'}), LocalizedString(group='mainMenu', key='Text', comment='', parameters=[], isUniqueMessage=True, localizedValues={'RU': 'Ты оказался в главном меню 😊', 'EN': 'You found yourself in the main menu 😊', 'AR': 'لقد وجدت نفسك في القائمة الرئيسية 😊', 'TR': 'Kendinizi ana menüde buldunuz 😊'}), LocalizedString(group='mainMenu', key='TextRepoLink', comment='', parameters=[], isUniqueMessage=True, localizedValues={'RU': 'https://github.com/MadL0rd/ShinestBot', 'EN': 'https://github.com/madl0rd/shinestbot', 'AR': 'https://github.com/madl0rd/shinestbot', 'TR': 'https://github.com/madl0rd/shinestbot'}), LocalizedString(group='mainMenu', key='ButtonAdminMenu', comment='', parameters=[], isUniqueMessage=True, localizedValues={'RU': 'Меню администратора', 'EN': 'Administrator menu', 'AR': 'قائمة المسؤول', 'TR': 'Yönetici menüsü'}), LocalizedString(group='mainMenu', key='ButtonRepoLink', comment='', parameters=[], isUniqueMessage=True, localizedValues={'RU': 'Репозиторий', 'EN': 'Repository', 'AR': 'مخزن', 'TR': 'Depo'}), LocalizedString(group='adminMenu', key='Text', comment='', parameters=[], isUniqueMessage=True, localizedValues={'RU': 'Вы в меню администратора', 'EN': 'You are in the administrator menu', 'AR': 'أنت في قائمة المسؤول', 'TR': 'Yönetici menüsündesiniz'}), LocalizedString(group='adminMenu', key='ButtonReloadData', comment='', parameters=[], isUniqueMessage=True, localizedValues={'RU': '📥 Стянуть новые тексты из гугл таблицы', 'EN': '📥 pull new texts from Google tables', 'AR': '📥 سحب نصوص جديدة من طاولات Google', 'TR': '📥 Google tablolarından yeni metinler çekin'}), LocalizedString(group='adminMenu', key='ButtonDownloadTables', comment='', parameters=[], isUniqueMessage=True, localizedValues={'RU': '📊 Выгрузить данные об использовании бота', 'EN': '📊 Unload data on the use of the bot', 'AR': '📊 إلغاء تحميل البيانات حول استخدام الروبوت', 'TR': '📊 Bot kullanımıyla ilgili verileri boşaltın'}), LocalizedString(group='adminMenu', key='ButtonUsersManagement', comment='', parameters=[], isUniqueMessage=True, localizedValues={'RU': '📋 Управление правами доступа пользователей', 'EN': '📋 User access rights management', 'AR': '📋 إدارة حقوق وصول المستخدم', 'TR': '📋 Kullanıcı erişim hakları yönetimi'}), LocalizedString(group='adminMenu', key='ButtonMailing', comment='', parameters=[], isUniqueMessage=True, localizedValues={'RU': '📨 Рассылка', 'EN': '📨 Sending', 'AR': '📨 إرسال', 'TR': '📨 Gönderme'}), LocalizedString(group='adminMenu', key='ReturnBack', comment='', parameters=[], isUniqueMessage=True, localizedValues={'RU': '⬅️ Вернуться в меню администратора', 'EN': '⬅️ Return to the Administrator menu', 'AR': '⬅ العودة إلى قائمة المسؤول', 'TR': '⬅️ Yönetici menüsüne dön'}), LocalizedString(group='adminMenu', key='MailingText', comment='', parameters=[], isUniqueMessage=True, localizedValues={'RU': 'Введите сообщение\\nПеред рассылкой сообщение будет продублировано для проверки', 'EN': 'Enter your message\\nBefore the mailing, the message will be duplicated for verification', 'AR': 'أدخل رسالتك\\nقبل البريد ، سيتم تكرار الرسالة للتحقق', 'TR': 'Mesajınızı girin\\nPostadan önce, mesaj doğrulama için çoğaltılacaktır'}), LocalizedString(group='adminMenu', key='MailingTextChekMessage', comment='', parameters=[], isUniqueMessage=True, localizedValues={'RU': 'Вы собираетесь отправить пользователям следующее сообщение:', 'EN': 'You are going to send users the following message:', 'AR': 'سترسل للمستخدمين الرسالة التالية:', 'TR': 'Kullanıcılara aşağıdaki mesajı göndereceksiniz:'}), LocalizedString(group='adminMenu', key='MailingButtonSend', comment='', parameters=[], isUniqueMessage=True, localizedValues={'RU': 'Начать отправку', 'EN': 'Start sending', 'AR': 'ابدأ بالإرسال', 'TR': 'Göndermeye Başla'}), LocalizedString(group='adminMenu', key='MailingButtonCancel', comment='', parameters=[], isUniqueMessage=True, localizedValues={'RU': 'Отмена', 'EN': 'Cancellation', 'AR': 'إلغاء', 'TR': 'İptal'}), LocalizedString(group='adminMenu', key='UsersManagementTextFindUser', comment='', parameters=[], isUniqueMessage=True, localizedValues={'RU': 'Для поиска пользователя введите его id либо usermane в формате @username', 'EN': 'To search the user, enter it id or usermane in @USERNAME format', 'AR': 'للبحث في المستخدم ، أدخل معرفه أو usermane بتنسيق اسم @', 'TR': 'Kullanıcıyı aramak için @username biçiminde kimlik veya usermane girin'}), LocalizedString(group='adminMenu', key='UsersManagementPermissionsInfo', comment='', parameters=[], isUniqueMessage=True, localizedValues={'RU': 'Информация о модификаторах доступа:\\n*owner* - Вдаделец бота: может назначать администраторов + имеет все права администратора)\\n*admin* - Администратор: доступен вход в меню администратора, назначение ролей кроме owner и admin\\n*banned* - Заблокированый пользователь (админ и владелец не могут быть заблокированы, если необходимо заблокировать администратора, то сначала нужно забрать у него админский уровень доступа)', 'EN': 'Information about access modifiers:\\n* Owner* - Bota departure: can appoint administrators + has all the rights of the administrator)\\n* Admin* - Administrator: Entrance to the administrator menu is available, roles and admin roles.\\n* Banned* - a blocked user (the admin and the owner cannot be blocked, if the administrator must be blocked, then you first need to take the admin level from him)', 'AR': 'معلومات حول معدلات الوصول:\\n* المالك* - BOTA DEOPLE: CAN HINDENT ADMINSS + لديه جميع حقوق المسؤول)\\n* المسؤول* - المسؤول: مدخل قائمة المسؤول متاح ، أدوار وأدوار المسؤول.\\n* محظور* - مستخدم محظور (لا يمكن حظر المسؤول والمالك ، إذا كان يجب حظر المسؤول ، فأنت بحاجة أولاً إلى أخذ مستوى المسؤول منه)', 'TR': 'Erişim Değiştiricileri Hakkında Bilgiler:\\n* Sahibi* - Bota Kalkış: Yöneticileri atlayabilir + Yöneticinin tüm haklarına sahiptir)\\n* Yönetici* - Yönetici: Yönetici menüsüne giriş, roller ve yönetici rolleri mevcuttur.\\n* Yasaklandı* - Engellenmiş bir kullanıcı (yönetici ve sahibi engellenemez, yöneticinin engellenmesi gerekiyorsa, önce yönetici seviyesini ondan almanız gerekir)'}), LocalizedString(group='adminMenu', key='UsersManagementButtonEditPermissions', comment='', parameters=[], isUniqueMessage=True, localizedValues={'RU': 'Управлять правами доступа', 'EN': 'Manage access rights', 'AR': 'إدارة حقوق الوصول', 'TR': 'Erişim haklarını yönetin'}), LocalizedString(group='adminMenu', key='UsersManagementButtonNewSearch', comment='', parameters=[], isUniqueMessage=True, localizedValues={'RU': 'Новый поиск', 'EN': 'New search', 'AR': 'بحث جديد', 'TR': 'Yeni arama'}), LocalizedString(group='adminMenuMetrics', key='SelectDateText', comment='', parameters=[], isUniqueMessage=True, localizedValues={'RU': 'Выберите период', 'EN': 'Choose the period', 'AR': 'اختر الفترة', 'TR': 'Dönemi seçin'}), LocalizedString(group='adminMenuMetrics', key='SelectDateMonth', comment='', parameters=[], isUniqueMessage=True, localizedValues={'RU': 'Месяц', 'EN': 'Month', 'AR': 'شهر', 'TR': 'Ay'}), LocalizedString(group='adminMenuMetrics', key='SelectDateQuarter', comment='', parameters=[], isUniqueMessage=True, localizedValues={'RU': 'Квартал', 'EN': 'Quarter', 'AR': 'ربع', 'TR': 'Çeyrek'}), LocalizedString(group='adminMenuMetrics', key='SelectDateYear', comment='', parameters=[], isUniqueMessage=True, localizedValues={'RU': 'Год', 'EN': 'Year', 'AR': 'سنة', 'TR': 'Yıl'})]\n"
     ]
    }
   ],
   "source": [
    "localizedStrings: List[LocalizedString] = []\n",
    "for row in sheetStringsContent:\n",
    "    localizedValues = row[rowEstimatedLength - languagesCount:]\n",
    "    localizedValuesDict: Dict[str, str] = {}\n",
    "    for index, localizedValue in enumerate(localizedValues):\n",
    "        localizedValuesDict[languages[index]] = localizedValue\n",
    "\n",
    "    localizedStrings.append(\n",
    "        LocalizedString(\n",
    "            group=row[0],\n",
    "            key=row[1],\n",
    "            comment=row[2],\n",
    "            parameters=parseParams(row[3]),\n",
    "            isUniqueMessage=row[4] == cachedTrueValue,\n",
    "            localizedValues=localizedValuesDict\n",
    "        )\n",
    "    )\n",
    "print(localizedStrings)\n"
   ]
  },
  {
   "cell_type": "markdown",
   "metadata": {},
   "source": [
    "## Unique messages generation"
   ]
  },
  {
   "cell_type": "code",
   "execution_count": 38,
   "metadata": {},
   "outputs": [],
   "source": [
    "def classNameFrom(text: str) -> str:\n",
    "    return text[0].upper() + text[1:]\n",
    "\n",
    "def propertyNameFrom(text: str) -> str:\n",
    "    return text[0].lower() + text[1:]"
   ]
  },
  {
   "cell_type": "code",
   "execution_count": 39,
   "metadata": {},
   "outputs": [],
   "source": [
    "localizedGroups: Dict[str, List[LocalizedString]] = {}\n",
    "for localizedString in localizedStrings:\n",
    "\n",
    "    if localizedString.isUniqueMessage is False: continue\n",
    "    \n",
    "    if localizedString.group not in localizedGroups:\n",
    "        localizedGroups[localizedString.group] = []\n",
    "    localizedGroups[localizedString.group].append(localizedString)"
   ]
  },
  {
   "cell_type": "code",
   "execution_count": 40,
   "metadata": {},
   "outputs": [],
   "source": [
    "def generateClassCodeForGroup(groupName: str, localizedValues: List[LocalizedString]) -> str:\n",
    "    \n",
    "    result = f'export class {classNameFrom(groupName)} '\n",
    "    result += '{'\n",
    "\n",
    "    for localizedString in localizedValues:\n",
    "        \n",
    "        comment = codeFileTab + '/**'\n",
    "        comment += f'\\n{codeFileTab} * {localizedString.localizedValues[defaultLanguage]}'\n",
    "        comment += f'\\n{codeFileTab} */'\n",
    "        # result += f'\\n{comment}'\n",
    "        \n",
    "        localizedValueSample = localizedString.localizedValues[defaultLanguage].replace('\\n', '\\\\n')\n",
    "        result += f'\\n{codeFileTab}readonly {propertyNameFrom(localizedString.key)} = \\'{localizedValueSample}\\''\n",
    "    \n",
    "    result += '\\n}'\n",
    "    return result"
   ]
  },
  {
   "cell_type": "code",
   "execution_count": 41,
   "metadata": {},
   "outputs": [],
   "source": [
    "uniqueMessagesFileContent = '''// ==================\n",
    "// * Generated file *\n",
    "// ==================\n",
    "\n",
    "export class UniqueMessage {'''\n",
    "\n",
    "for group in localizedGroups:\n",
    "    uniqueMessagesFileContent += f'\\n{codeFileTab}readonly {propertyNameFrom(group)} = new {classNameFrom(group)}()'\n",
    "\n",
    "uniqueMessagesFileContent += '\\n}\\n'\n",
    "\n",
    "for group, localizedString in localizedGroups.items():\n",
    "    uniqueMessagesFileContent += f'\\n{generateClassCodeForGroup(group, localizedString)}\\n'\n",
    "\n",
    "# print(uniqueMessagesFileContent)"
   ]
  },
  {
   "cell_type": "code",
   "execution_count": 42,
   "metadata": {},
   "outputs": [],
   "source": [
    "with filePathUniqueMessage.open('w') as file:\n",
    "    file.write(uniqueMessagesFileContent)"
   ]
  },
  {
   "cell_type": "code",
   "execution_count": null,
   "metadata": {},
   "outputs": [],
   "source": []
  }
 ],
 "metadata": {
  "kernelspec": {
   "display_name": "base",
   "language": "python",
   "name": "python3"
  },
  "language_info": {
   "codemirror_mode": {
    "name": "ipython",
    "version": 3
   },
   "file_extension": ".py",
   "mimetype": "text/x-python",
   "name": "python",
   "nbconvert_exporter": "python",
   "pygments_lexer": "ipython3",
   "version": "3.8.3"
  }
 },
 "nbformat": 4,
 "nbformat_minor": 2
}
