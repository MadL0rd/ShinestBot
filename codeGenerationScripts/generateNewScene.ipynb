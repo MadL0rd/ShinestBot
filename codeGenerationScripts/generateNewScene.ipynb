{
 "cells": [
  {
   "attachments": {},
   "cell_type": "markdown",
   "metadata": {},
   "source": [
    "# Input names"
   ]
  },
  {
   "cell_type": "code",
   "execution_count": 19,
   "metadata": {},
   "outputs": [],
   "source": [
    "newSceneName = \"SceneName\"\n",
    "userHistoryEventSceneStart = f\"Перешел к сцене {newSceneName}\"\n",
    "tab = '    '"
   ]
  },
  {
   "attachments": {},
   "cell_type": "markdown",
   "metadata": {},
   "source": [
    "# Generation"
   ]
  },
  {
   "cell_type": "code",
   "execution_count": 20,
   "metadata": {},
   "outputs": [],
   "source": [
    "import re\n",
    "\n",
    "def toCamelCaseFromSnake(snake_str):\n",
    "    return \"\".join(x.capitalize() for x in snake_str.lower().split(\"_\"))\n",
    "\n",
    "def toSnakeCaseFromCamel(name):\n",
    "    name = re.sub('(.)([A-Z][a-z]+)', r'\\1_\\2', name)\n",
    "    return re.sub('([a-z0-9])([A-Z])', r'\\1_\\2', name).lower()\n",
    "\n",
    "def toKebabCaseFromCamel(name):\n",
    "    name = re.sub('(.)([A-Z][a-z]+)', r'\\1-\\2', name)\n",
    "    return re.sub('([a-z0-9])([A-Z])', r'\\1-\\2', name).lower()\n"
   ]
  },
  {
   "cell_type": "code",
   "execution_count": 21,
   "metadata": {},
   "outputs": [],
   "source": [
    "from pathlib import Path\n",
    "import platform\n",
    "import codecs\n",
    "\n",
    "isWindows = platform.system() == 'Windows'\n",
    "\n",
    "def writeFileData(filePath: Path, content):\n",
    "    if isWindows:\n",
    "        data = content\n",
    "        with codecs.open(filePath, 'w', encoding= 'utf-8') as file:\n",
    "            file.write(data)\n",
    "    else:\n",
    "        data = content\n",
    "        with filePath.open('w') as file:\n",
    "            file.write(data)\n",
    "\n",
    "def addLinesToFileData(filePath: Path, content):\n",
    "    if isWindows:\n",
    "        data = content\n",
    "        with codecs.open(filePath, 'a', encoding= 'utf-8') as file:\n",
    "            file.write(data)\n",
    "    else:\n",
    "        data = content\n",
    "        with filePath.open('a') as file:\n",
    "            file.write(data)\n",
    "\n",
    "def getFileData(filePath: Path):\n",
    "    if isWindows:\n",
    "        with codecs.open(filePath, 'r', 'utf-8') as file:\n",
    "            content = file.read()\n",
    "    else:\n",
    "        with filePath.open() as file:\n",
    "            content = file.read()\n",
    "    return content\n",
    "\n",
    "def replaceInFileData(filePath: Path, placeholder: str, newContent: str):\n",
    "    fileContent = getFileData(filePath)\n",
    "    fileContent = fileContent.replace(\n",
    "        placeholder,\n",
    "        newContent\n",
    "    )\n",
    "    writeFileData(filePath, fileContent)"
   ]
  },
  {
   "cell_type": "code",
   "execution_count": 22,
   "metadata": {},
   "outputs": [],
   "source": [
    "sceneNameCapitaliseMask = \"<#SceneNameCapitalise#>\"\n",
    "sceneNameCamelCaseMask = \"<#SceneNameCamelCase#>\"\n",
    "fileContentTemplate = \"\"\"import { logger } from 'src/app/app.logger'\n",
    "import { UserService } from 'src/business-logic/user/user.service'\n",
    "import { Markup, Context } from 'telegraf'\n",
    "import { Update } from 'telegraf/types'\n",
    "import { SceneCallbackData } from '../models/scene-callback'\n",
    "import { SceneEntrance } from '../models/scene-entrance.interface'\n",
    "import { SceneName } from '../models/scene-name.enum'\n",
    "import { SceneHandlerCompletion } from '../models/scene.interface'\n",
    "import { Scene } from '../models/scene.abstract'\n",
    "import { SceneUsagePermissionsValidator } from '../models/scene-usage-permissions-validator'\n",
    "import { InjectableSceneConstructor } from '../scene-factory/scene-injections-provider.service'\n",
    "\n",
    "// =====================\n",
    "// Scene data classes\n",
    "// =====================\n",
    "export class <#SceneNameCapitalise#>SceneEntranceDto implements SceneEntrance.Dto {\n",
    "    readonly sceneName = '<#SceneNameCamelCase#>'\n",
    "}\n",
    "type SceneEnterDataType = <#SceneNameCapitalise#>SceneEntranceDto\n",
    "interface ISceneData {}\n",
    "\n",
    "// =====================\n",
    "// Scene main class\n",
    "// =====================\n",
    "\n",
    "@InjectableSceneConstructor()\n",
    "export class <#SceneNameCapitalise#>Scene extends Scene<ISceneData, SceneEnterDataType> {\n",
    "    // =====================\n",
    "    // Properties\n",
    "    // =====================\n",
    "\n",
    "    readonly name: SceneName.Union = '<#SceneNameCamelCase#>'\n",
    "    protected get dataDefault(): ISceneData {\n",
    "        return {} as ISceneData\n",
    "    }\n",
    "    protected get permissionsValidator(): SceneUsagePermissionsValidator.IPermissionsValidator {\n",
    "        return new SceneUsagePermissionsValidator.CanUseIfNotBanned()\n",
    "    }\n",
    "\n",
    "    constructor(protected readonly userService: UserService) {\n",
    "        super()\n",
    "    }\n",
    "\n",
    "    // =====================\n",
    "    // Public methods\n",
    "    // =====================\n",
    "\n",
    "    async handleEnterScene(\n",
    "        ctx: Context,\n",
    "        data?: SceneEnterDataType\n",
    "    ): Promise<SceneHandlerCompletion> {\n",
    "        logger.log(\n",
    "            `${this.name} scene handleEnterScene. User: ${this.user.telegramInfo.id} ${this.user.telegramInfo.username}`\n",
    "        )\n",
    "        await this.logToUserHistory({type: 'startScene<#SceneNameCapitalise#>'})\n",
    "\n",
    "        await ctx.replyWithHTML('Hello from <#SceneNameCapitalise#>', super.keyboardMarkupWithAutoLayoutFor(['Hello!']))\n",
    "\n",
    "        return this.completion.inProgress({})\n",
    "    }\n",
    "\n",
    "    async handleMessage(ctx: Context, dataRaw: object): Promise<SceneHandlerCompletion> {\n",
    "        logger.log(\n",
    "            `${this.name} scene handleMessage. User: ${this.user.telegramInfo.id} ${this.user.telegramInfo.username}`\n",
    "        )\n",
    "        const message = ctx.message\n",
    "        if (!message || !('text' in message)) return this.completion.canNotHandle({})\n",
    "\n",
    "        await ctx.replyWithHTML(`Echo:\\n${message.text}`)\n",
    "        await ctx.replyWithHTML(`Goodbye`, Markup.removeKeyboard())\n",
    "\n",
    "        return this.completion.complete()\n",
    "    }\n",
    "\n",
    "    async handleCallback(\n",
    "        ctx: Context<Update.CallbackQueryUpdate>,\n",
    "        data: SceneCallbackData\n",
    "    ): Promise<SceneHandlerCompletion> {\n",
    "        throw Error('Method not implemented.')\n",
    "    }\n",
    "\n",
    "    // =====================\n",
    "    // Private methods\n",
    "    // =====================\n",
    "}\n",
    "\n",
    "\"\"\""
   ]
  },
  {
   "attachments": {},
   "cell_type": "markdown",
   "metadata": {},
   "source": [
    "## Configuration"
   ]
  },
  {
   "cell_type": "code",
   "execution_count": 23,
   "metadata": {},
   "outputs": [],
   "source": [
    "sceneNameCapitalise = newSceneName[0].upper() + newSceneName[1:]\n",
    "sceneNameCamelCase = newSceneName[0].lower() + newSceneName[1:]\n",
    "sceneNameKebabCase = toKebabCaseFromCamel(sceneNameCapitalise)"
   ]
  },
  {
   "cell_type": "code",
   "execution_count": 24,
   "metadata": {},
   "outputs": [],
   "source": [
    "# Check folder path\n",
    "\n",
    "scenesPath = Path(\"../src/presentation/scenes/implementations/\")\n",
    "creatingSceneFolder = scenesPath\n",
    "creatingSceneSourceFile = creatingSceneFolder / f\"{sceneNameKebabCase}.scene.ts\"\n",
    "\n",
    "userHistoryEventFilePath = Path(\"../src/business-logic/user/enums/user-history-events.ts\")\n",
    "sceneNameFilePath = Path(\"../src/presentation/scenes/models/scene-name.enum.ts\")\n",
    "sceneFactoryFilePath = Path(\"../src/presentation/scenes/scene-factory/scene-factory.service.ts\")\n",
    "sceneEntranceInterfacePath = Path(\"../src/presentation/scenes/models/scene-entrance.interface.ts\")\n"
   ]
  },
  {
   "cell_type": "code",
   "execution_count": 25,
   "metadata": {},
   "outputs": [],
   "source": [
    "# Source code names update\n",
    "\n",
    "fileContent = fileContentTemplate.replace(sceneNameCapitaliseMask, sceneNameCapitalise)\n",
    "fileContent = fileContent.replace(sceneNameCamelCaseMask, sceneNameCamelCase)"
   ]
  },
  {
   "attachments": {},
   "cell_type": "markdown",
   "metadata": {},
   "source": [
    "## Source code generation"
   ]
  },
  {
   "cell_type": "code",
   "execution_count": 26,
   "metadata": {},
   "outputs": [],
   "source": [
    "# creatingSceneFolder.mkdir(parents=True, exist_ok=True)\n",
    "writeFileData(creatingSceneSourceFile, fileContent)"
   ]
  },
  {
   "cell_type": "code",
   "execution_count": 27,
   "metadata": {},
   "outputs": [],
   "source": [
    "# UserHistoryEvent\n",
    "placeholder = '/** New scene event placeholder */'\n",
    "openingCurlyBrace = '{'\n",
    "closingCurlyBrace = '}'\n",
    "replaceInFileData(\n",
    "    filePath=userHistoryEventFilePath,\n",
    "    placeholder=placeholder,\n",
    "    newContent=f\"startScene{sceneNameCapitalise}: {openingCurlyBrace}\\n{tab}{tab}type: 'startScene{sceneNameCapitalise}',\\n{tab}{tab}localizedTitle: 'Перешел к сцене {sceneNameCamelCase}',\\n{tab}{closingCurlyBrace},\\n{tab}{placeholder}\"\n",
    ")\n",
    "\n",
    "# SceneName\n",
    "placeholder = '/** New scene name placeholder */'\n",
    "replaceInFileData(\n",
    "    filePath=sceneNameFilePath,\n",
    "    placeholder=placeholder,\n",
    "    newContent=f\"'{sceneNameCamelCase}',\\n{tab * 2}{placeholder}\"\n",
    ")\n",
    "\n",
    "# SceneFactory\n",
    "placeholder = '/** New scene import placeholder */'\n",
    "replaceInFileData(\n",
    "    filePath=sceneFactoryFilePath,\n",
    "    placeholder=placeholder,\n",
    "    newContent=\"import { \" + sceneNameCapitalise + \"Scene } from 'src/presentation/scenes/implementations/\" +\n",
    "    sceneNameKebabCase + \".scene'\\n\" + placeholder\n",
    ")\n",
    "\n",
    "placeholder = '/** New scene generation placeholder */'\n",
    "replaceInFileData(\n",
    "    filePath=sceneFactoryFilePath,\n",
    "    placeholder=placeholder,\n",
    "    newContent=f\"case '{sceneNameCamelCase}':\\n{tab * 4}return this.injectionsProvider.resolve({sceneNameCapitalise}Scene)\\n{tab * 3}{placeholder}\"\n",
    ")\n",
    "\n",
    "placeholder = '/** New scene entrance dto import placeholder */'\n",
    "replaceInFileData(\n",
    "\tfilePath=sceneEntranceInterfacePath,\n",
    "\tplaceholder=placeholder,\n",
    "    newContent=\"import { \" + sceneNameCapitalise + \"SceneEntranceDto } from 'src/presentation/scenes/implementations/\" +\n",
    "    sceneNameKebabCase + \".scene'\\n\" + placeholder\n",
    ")\n",
    "\n",
    "placeholder = '/** New scene entrance dto placeholder */'\n",
    "replaceInFileData(\n",
    "\tfilePath=sceneEntranceInterfacePath,\n",
    "\tplaceholder=placeholder,\n",
    "\tnewContent=f\"{tab}| {sceneNameCapitalise}SceneEntranceDto\\n{tab}{placeholder}\"\n",
    ")"
   ]
  },
  {
   "cell_type": "code",
   "execution_count": null,
   "metadata": {},
   "outputs": [],
   "source": []
  }
 ],
 "metadata": {
  "kernelspec": {
   "display_name": "base",
   "language": "python",
   "name": "python3"
  },
  "language_info": {
   "codemirror_mode": {
    "name": "ipython",
    "version": 3
   },
   "file_extension": ".py",
   "mimetype": "text/x-python",
   "name": "python",
   "nbconvert_exporter": "python",
   "pygments_lexer": "ipython3",
   "version": "3.10.7"
  },
  "orig_nbformat": 4,
  "vscode": {
   "interpreter": {
    "hash": "7b7c7b2245f84aa233e35c86f483dabad4d751346c1b04aaf192d0cd0bfc0ef9"
   }
  }
 },
 "nbformat": 4,
 "nbformat_minor": 2
}
