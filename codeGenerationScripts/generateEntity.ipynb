{
 "cells": [
  {
   "cell_type": "markdown",
   "metadata": {},
   "source": [
    "### Note: code was generated with GPT"
   ]
  },
  {
   "cell_type": "code",
   "execution_count": null,
   "metadata": {},
   "outputs": [],
   "source": [
    "import os\n",
    "import codecs"
   ]
  },
  {
   "cell_type": "code",
   "execution_count": null,
   "metadata": {},
   "outputs": [],
   "source": [
    "def camel_to_kebab(s):\n",
    "    return ''.join(['-' + c.lower() if c.isupper() else c for c in s]).lstrip('-')\n",
    "\n",
    "def generate_entity_files(entity_name):\n",
    "    entity_name_camel_case = entity_name\n",
    "    kebab_case_file_name = camel_to_kebab(entity_name_camel_case)\n",
    "\n",
    "    helper_content = f'''\\\n",
    "/**\n",
    " * Namespace for {entity_name_camel_case} entity helper functions.\n",
    " * This namespace should contain functions that assist in processing or manipulating entity data.\n",
    " */\n",
    "export namespace _{entity_name_camel_case}Helper {{\n",
    "    // Implement your helper functions here\n",
    "}}\n",
    "'''\n",
    "\n",
    "    formatter_content = f'''\\\n",
    "/**\n",
    " * Namespace for {entity_name_camel_case} entity formatter functions.\n",
    " * This namespace should contain functions responsible for formatting entity data.\n",
    " */\n",
    "export namespace _{entity_name_camel_case}Formatter {{\n",
    "    // Implement your formatter functions here\n",
    "}}\n",
    "'''\n",
    "\n",
    "    entity_content = f'''\\\n",
    "import {{ _{entity_name_camel_case}Formatter }} from './{kebab_case_file_name}.formatter'\n",
    "import {{ _{entity_name_camel_case}Helper }} from './{kebab_case_file_name}.helper'\n",
    "\n",
    "/**\n",
    " * Namespace for {entity_name_camel_case} entity related functionality.\n",
    " * This namespace should contain types representing the entity's types and alias to `Helper` and `Formatter` namespaces.\n",
    " */\n",
    "export namespace _{entity_name_camel_case}Entity {{\n",
    "    export import Helper = _{entity_name_camel_case}Helper\n",
    "    export import Formatter = _{entity_name_camel_case}Formatter\n",
    "\n",
    "    export type BaseType = {{\n",
    "        value: undefined\n",
    "    }}\n",
    "}}\n",
    "'''\n",
    "\n",
    "    index_content = f'''\\\n",
    "import {{ _{entity_name_camel_case}Entity }} from './{kebab_case_file_name}.entity'\n",
    "\n",
    "export {{ _{entity_name_camel_case}Entity as {entity_name_camel_case} }}\n",
    "'''\n",
    "\n",
    "    base_dir = os.path.join('../', 'src', 'entities', kebab_case_file_name)\n",
    "    os.makedirs(base_dir, exist_ok=True)\n",
    "\n",
    "    # Записываем содержимое в файлы\n",
    "    with codecs.open(os.path.join(base_dir, f\"{kebab_case_file_name}.helper.ts\"), 'w', encoding= 'utf-8') as f:\n",
    "        f.write(helper_content)\n",
    "\n",
    "    with codecs.open(os.path.join(base_dir, f\"{kebab_case_file_name}.formatter.ts\"), 'w', encoding= 'utf-8') as f:\n",
    "        f.write(formatter_content)\n",
    "\n",
    "    with codecs.open(os.path.join(base_dir, f\"{kebab_case_file_name}.entity.ts\"), 'w', encoding= 'utf-8') as f:\n",
    "        f.write(entity_content)\n",
    "\n",
    "    with codecs.open(os.path.join(base_dir, \"index.ts\"), 'w', encoding= 'utf-8') as f:\n",
    "        f.write(index_content)\n",
    "\n",
    "    print(f\"Entity files for '{entity_name_camel_case}' generated successfully.\")"
   ]
  },
  {
   "cell_type": "code",
   "execution_count": null,
   "metadata": {},
   "outputs": [],
   "source": [
    "entity_name_camel_case = input(\"Enter the name of the new entity (in camelCase): \")\n",
    "generate_entity_files(entity_name_camel_case)"
   ]
  }
 ],
 "metadata": {
  "kernelspec": {
   "display_name": "base",
   "language": "python",
   "name": "python3"
  },
  "language_info": {
   "codemirror_mode": {
    "name": "ipython",
    "version": 3
   },
   "file_extension": ".py",
   "mimetype": "text/x-python",
   "name": "python",
   "nbconvert_exporter": "python",
   "pygments_lexer": "ipython3",
   "version": "3.10.7"
  },
  "orig_nbformat": 4,
  "vscode": {
   "interpreter": {
    "hash": "7b7c7b2245f84aa233e35c86f483dabad4d751346c1b04aaf192d0cd0bfc0ef9"
   }
  }
 },
 "nbformat": 4,
 "nbformat_minor": 2
}
